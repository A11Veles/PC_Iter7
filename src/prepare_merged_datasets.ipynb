{
 "cells": [
  {
   "cell_type": "markdown",
   "id": "e262c5fc",
   "metadata": {},
   "source": [
    "# Import packages"
   ]
  },
  {
   "cell_type": "code",
   "execution_count": 1,
   "id": "5cff14ac",
   "metadata": {},
   "outputs": [],
   "source": [
    "import pandas as pd\n",
    "from teradataml import *\n",
    "import ast\n",
    "import json\n",
    "\n",
    "\n",
    "from utils import clean_text\n",
    "from constants import (\n",
    "\n",
    "SHOPMAINA_DATASET, SKROUTZ_DATASET, PRICE_RUNNER_DATASET, JIO_MART_DATASET, JIO_MART_DATASET_MAPPED, JIO_MART_DATASET_MAPPING\n",
    ")\n"
   ]
  },
  {
   "cell_type": "code",
   "execution_count": 2,
   "id": "c83b7902",
   "metadata": {},
   "outputs": [
    {
     "name": "stdout",
     "output_type": "stream",
     "text": [
      "<class 'pandas.core.frame.DataFrame'>\n",
      "Index: 162280 entries, 0 to 162312\n",
      "Data columns (total 3 columns):\n",
      " #   Column        Non-Null Count   Dtype \n",
      "---  ------        --------------   ----- \n",
      " 0   category      162280 non-null  object\n",
      " 1   sub_category  162280 non-null  object\n",
      " 2   product name  162280 non-null  object\n",
      "dtypes: object(3)\n",
      "memory usage: 5.0+ MB\n"
     ]
    }
   ],
   "source": [
    "jio_mart_df = pd.read_csv(JIO_MART_DATASET)\n",
    "jio_mart_df = jio_mart_df.loc[~jio_mart_df['items'].isna(), :]\n",
    "jio_mart_df = jio_mart_df.drop(columns=['href', 'price'])\n",
    "jio_mart_df.rename(columns={'items': 'product name'}, inplace=True)\n",
    "jio_mart_df.info()"
   ]
  },
  {
   "cell_type": "code",
   "execution_count": 3,
   "id": "f22968b9",
   "metadata": {},
   "outputs": [
    {
     "data": {
      "text/html": [
       "<div>\n",
       "<style scoped>\n",
       "    .dataframe tbody tr th:only-of-type {\n",
       "        vertical-align: middle;\n",
       "    }\n",
       "\n",
       "    .dataframe tbody tr th {\n",
       "        vertical-align: top;\n",
       "    }\n",
       "\n",
       "    .dataframe thead th {\n",
       "        text-align: right;\n",
       "    }\n",
       "</style>\n",
       "<table border=\"1\" class=\"dataframe\">\n",
       "  <thead>\n",
       "    <tr style=\"text-align: right;\">\n",
       "      <th></th>\n",
       "      <th>category</th>\n",
       "      <th>sub_category</th>\n",
       "      <th>product name</th>\n",
       "    </tr>\n",
       "  </thead>\n",
       "  <tbody>\n",
       "    <tr>\n",
       "      <th>0</th>\n",
       "      <td>Groceries</td>\n",
       "      <td>Fruits &amp; Vegetables</td>\n",
       "      <td>Fresh Dates (Pack) (Approx 450 g - 500 g)</td>\n",
       "    </tr>\n",
       "    <tr>\n",
       "      <th>1</th>\n",
       "      <td>Groceries</td>\n",
       "      <td>Fruits &amp; Vegetables</td>\n",
       "      <td>Tender Coconut Cling Wrapped (1 pc) (Approx 90...</td>\n",
       "    </tr>\n",
       "    <tr>\n",
       "      <th>2</th>\n",
       "      <td>Groceries</td>\n",
       "      <td>Fruits &amp; Vegetables</td>\n",
       "      <td>Mosambi 1 kg</td>\n",
       "    </tr>\n",
       "    <tr>\n",
       "      <th>3</th>\n",
       "      <td>Groceries</td>\n",
       "      <td>Fruits &amp; Vegetables</td>\n",
       "      <td>Orange Imported 1 kg</td>\n",
       "    </tr>\n",
       "    <tr>\n",
       "      <th>4</th>\n",
       "      <td>Groceries</td>\n",
       "      <td>Fruits &amp; Vegetables</td>\n",
       "      <td>Banana Robusta 6 pcs (Box) (Approx 800 g - 110...</td>\n",
       "    </tr>\n",
       "  </tbody>\n",
       "</table>\n",
       "</div>"
      ],
      "text/plain": [
       "    category         sub_category  \\\n",
       "0  Groceries  Fruits & Vegetables   \n",
       "1  Groceries  Fruits & Vegetables   \n",
       "2  Groceries  Fruits & Vegetables   \n",
       "3  Groceries  Fruits & Vegetables   \n",
       "4  Groceries  Fruits & Vegetables   \n",
       "\n",
       "                                        product name  \n",
       "0          Fresh Dates (Pack) (Approx 450 g - 500 g)  \n",
       "1  Tender Coconut Cling Wrapped (1 pc) (Approx 90...  \n",
       "2                                       Mosambi 1 kg  \n",
       "3                               Orange Imported 1 kg  \n",
       "4  Banana Robusta 6 pcs (Box) (Approx 800 g - 110...  "
      ]
     },
     "execution_count": 3,
     "metadata": {},
     "output_type": "execute_result"
    }
   ],
   "source": [
    "jio_mart_df.head()"
   ]
  },
  {
   "cell_type": "code",
   "execution_count": 13,
   "id": "899d9615",
   "metadata": {},
   "outputs": [
    {
     "data": {
      "text/plain": [
       "array(['Fruits & Vegetables', 'Premium Fruits', 'Dairy & Bakery',\n",
       "       'Staples', 'Snacks & Branded Foods', 'Beverages', 'Personal Care',\n",
       "       'Home Care', 'Apparel', 'Mom & Baby Care', 'Books', 'Pets',\n",
       "       'Kitchenware', 'Dining', 'Furnishing', 'Home Decor', 'Furniture',\n",
       "       'Home Appliances', 'Toys, Games & Fitness', 'Electrical',\n",
       "       'Bathroom & Laundry Accessories', 'Disposables', 'Stationery',\n",
       "       'Bags & Travel Luggage', 'Mops, Brushes & Scrubs', 'Auto Care',\n",
       "       'Garden & Outdoor', 'Carpentry & work accessories', 'Pooja Needs',\n",
       "       'Bathroom & Laundry', 'Industrial & Scientific Supplies',\n",
       "       'Building Supplies & Measuring Tools', 'Hardware & Plumbing',\n",
       "       'Home Safety & Automation', 'Kitchen & Bath Fixtures',\n",
       "       'Paint, Wall Treatments & Supplies', 'Power & Hand Tools',\n",
       "       'Handloom & Handicraft', 'Personal Wear', 'Men', 'Women', 'Boys',\n",
       "       'Girls', 'Junior Boys', 'Infants', 'Mobiles & Tablets',\n",
       "       'TV & Speaker', 'Computers', 'Cameras', 'Kitchen Appliances',\n",
       "       'Personal Care & Grooming', 'Smart Devices', 'Gaming',\n",
       "       'Accessories', 'Phones', 'Office Products', 'Health Care Devices',\n",
       "       'Make-Up', 'Hair', 'Skin Care', 'Fragrances', 'Mom & Baby',\n",
       "       \"Men's Grooming\", 'Tools & Appliances', 'Wellness', 'Fitness',\n",
       "       'Ayush', 'Treatments', 'Fine Jewellery'], dtype=object)"
      ]
     },
     "execution_count": 13,
     "metadata": {},
     "output_type": "execute_result"
    }
   ],
   "source": [
    "jio_mart_df_cateogires = jio_mart_df[\"sub_category\"].unique()\n",
    "jio_mart_df_cateogires"
   ]
  },
  {
   "cell_type": "code",
   "execution_count": 4,
   "id": "a3491c18",
   "metadata": {},
   "outputs": [],
   "source": [
    "with open(JIO_MART_DATASET_MAPPING, \"r\", encoding=\"utf-8\") as f:\n",
    "    mapping = json.load(f)"
   ]
  },
  {
   "cell_type": "code",
   "execution_count": 5,
   "id": "90f1d68b",
   "metadata": {},
   "outputs": [],
   "source": [
    "def map_to_gpc(category, subcategory):\n",
    "    try:\n",
    "        return mapping[category][subcategory]\n",
    "    except KeyError:\n",
    "        return [None, None, None, None]"
   ]
  },
  {
   "cell_type": "code",
   "execution_count": 7,
   "id": "27014b55",
   "metadata": {},
   "outputs": [],
   "source": [
    "jio_mart_df[[\"Segment\", \"Family\", \"Class\", \"Brick\"]] = jio_mart_df.apply(\n",
    "    lambda row: pd.Series(map_to_gpc(row[\"category\"], row[\"sub_category\"])),\n",
    "    axis=1\n",
    ")"
   ]
  },
  {
   "cell_type": "code",
   "execution_count": 11,
   "id": "9307de4c",
   "metadata": {},
   "outputs": [],
   "source": [
    "jio_mart_df.to_csv(JIO_MART_DATASET_MAPPED, index=False)"
   ]
  },
  {
   "cell_type": "code",
   "execution_count": null,
   "id": "8a881d12",
   "metadata": {},
   "outputs": [],
   "source": []
  }
 ],
 "metadata": {
  "kernelspec": {
   "display_name": "Python 3",
   "language": "python",
   "name": "python3"
  },
  "language_info": {
   "codemirror_mode": {
    "name": "ipython",
    "version": 3
   },
   "file_extension": ".py",
   "mimetype": "text/x-python",
   "name": "python",
   "nbconvert_exporter": "python",
   "pygments_lexer": "ipython3",
   "version": "3.13.5"
  }
 },
 "nbformat": 4,
 "nbformat_minor": 5
}
