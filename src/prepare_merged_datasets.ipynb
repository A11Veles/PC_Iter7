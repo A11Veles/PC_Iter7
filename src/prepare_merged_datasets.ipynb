{
 "cells": [
  {
   "cell_type": "markdown",
   "id": "e262c5fc",
   "metadata": {},
   "source": [
    "# Import packages"
   ]
  },
  {
   "cell_type": "code",
   "execution_count": 3,
   "id": "5cff14ac",
   "metadata": {},
   "outputs": [],
   "source": [
    "import pandas as pd\n",
    "from teradataml import *\n",
    "import ast\n",
    "import json\n",
    "\n",
    "\n",
    "from utils import clean_text\n",
    "from constants import (\n",
    "\n",
    "SHOPMAINA_DATASET, SKROUTZ_DATASET, PRICE_RUNNER_DATASET, JIO_MART_DATASET, JIO_MART_DATASET_MAPPED\n",
    ")\n"
   ]
  },
  {
   "cell_type": "code",
   "execution_count": 5,
   "id": "c83b7902",
   "metadata": {},
   "outputs": [
    {
     "name": "stdout",
     "output_type": "stream",
     "text": [
      "<class 'pandas.core.frame.DataFrame'>\n",
      "Index: 162280 entries, 0 to 162312\n",
      "Data columns (total 3 columns):\n",
      " #   Column        Non-Null Count   Dtype \n",
      "---  ------        --------------   ----- \n",
      " 0   category      162280 non-null  object\n",
      " 1   sub_category  162280 non-null  object\n",
      " 2   product name  162280 non-null  object\n",
      "dtypes: object(3)\n",
      "memory usage: 5.0+ MB\n"
     ]
    }
   ],
   "source": [
    "jio_mart_df = pd.read_csv(JIO_MART_DATASET)\n",
    "jio_mart_df = jio_mart_df.loc[~jio_mart_df['items'].isna(), :]\n",
    "jio_mart_df = jio_mart_df.drop(columns=['href', 'price'])\n",
    "jio_mart_df.rename(columns={'items': 'product name'}, inplace=True)\n",
    "jio_mart_df.info()"
   ]
  },
  {
   "cell_type": "code",
   "execution_count": null,
   "id": "f22968b9",
   "metadata": {},
   "outputs": [],
   "source": [
    "jio_mart_df.head()"
   ]
  },
  {
   "cell_type": "code",
   "execution_count": 6,
   "id": "9eebc198",
   "metadata": {},
   "outputs": [],
   "source": [
    "jio_mart_df.to_csv(\"jio_mart_dataset_cleaned.csv\")"
   ]
  },
  {
   "cell_type": "code",
   "execution_count": 12,
   "id": "099bf261",
   "metadata": {},
   "outputs": [
    {
     "data": {
      "text/plain": [
       "array(['Groceries', 'Home & Kitchen', 'Fashion', 'Electronics', 'Beauty',\n",
       "       'Jewellery'], dtype=object)"
      ]
     },
     "execution_count": 12,
     "metadata": {},
     "output_type": "execute_result"
    }
   ],
   "source": [
    "jio_mart_df_cateogires = jio_mart_df[\"category\"].unique()\n",
    "jio_mart_df_cateogires"
   ]
  },
  {
   "cell_type": "code",
   "execution_count": 13,
   "id": "899d9615",
   "metadata": {},
   "outputs": [
    {
     "data": {
      "text/plain": [
       "array(['Fruits & Vegetables', 'Premium Fruits', 'Dairy & Bakery',\n",
       "       'Staples', 'Snacks & Branded Foods', 'Beverages', 'Personal Care',\n",
       "       'Home Care', 'Apparel', 'Mom & Baby Care', 'Books', 'Pets',\n",
       "       'Kitchenware', 'Dining', 'Furnishing', 'Home Decor', 'Furniture',\n",
       "       'Home Appliances', 'Toys, Games & Fitness', 'Electrical',\n",
       "       'Bathroom & Laundry Accessories', 'Disposables', 'Stationery',\n",
       "       'Bags & Travel Luggage', 'Mops, Brushes & Scrubs', 'Auto Care',\n",
       "       'Garden & Outdoor', 'Carpentry & work accessories', 'Pooja Needs',\n",
       "       'Bathroom & Laundry', 'Industrial & Scientific Supplies',\n",
       "       'Building Supplies & Measuring Tools', 'Hardware & Plumbing',\n",
       "       'Home Safety & Automation', 'Kitchen & Bath Fixtures',\n",
       "       'Paint, Wall Treatments & Supplies', 'Power & Hand Tools',\n",
       "       'Handloom & Handicraft', 'Personal Wear', 'Men', 'Women', 'Boys',\n",
       "       'Girls', 'Junior Boys', 'Infants', 'Mobiles & Tablets',\n",
       "       'TV & Speaker', 'Computers', 'Cameras', 'Kitchen Appliances',\n",
       "       'Personal Care & Grooming', 'Smart Devices', 'Gaming',\n",
       "       'Accessories', 'Phones', 'Office Products', 'Health Care Devices',\n",
       "       'Make-Up', 'Hair', 'Skin Care', 'Fragrances', 'Mom & Baby',\n",
       "       \"Men's Grooming\", 'Tools & Appliances', 'Wellness', 'Fitness',\n",
       "       'Ayush', 'Treatments', 'Fine Jewellery'], dtype=object)"
      ]
     },
     "execution_count": 13,
     "metadata": {},
     "output_type": "execute_result"
    }
   ],
   "source": [
    "jio_mart_df_cateogires = jio_mart_df[\"sub_category\"].unique()\n",
    "jio_mart_df_cateogires"
   ]
  },
  {
   "cell_type": "code",
   "execution_count": null,
   "id": "a3491c18",
   "metadata": {},
   "outputs": [],
   "source": [
    "with open(JIO_MART_DATASET_MAPPED, \"r\", encoding=\"utf-8\") as f:\n",
    "    mapping = ast.literal_eval(f.read())"
   ]
  },
  {
   "cell_type": "code",
   "execution_count": null,
   "id": "90f1d68b",
   "metadata": {},
   "outputs": [],
   "source": [
    "def map_to_gpc(category, subcategory):\n",
    "    try:\n",
    "        return mapping[category][subcategory]\n",
    "    except KeyError:\n",
    "        return [None, None, None, None]"
   ]
  },
  {
   "cell_type": "code",
   "execution_count": null,
   "id": "27014b55",
   "metadata": {},
   "outputs": [],
   "source": [
    "jio_mart_df[[\"Segment\", \"Family\", \"Class\", \"Brick\"]] = jio_mart_df.apply(\n",
    "    lambda row: pd.Series(map_to_gpc(row[\"Category\"], row[\"Sub Category\"])),\n",
    "    axis=1\n",
    ")"
   ]
  },
  {
   "cell_type": "code",
   "execution_count": null,
   "id": "9307de4c",
   "metadata": {},
   "outputs": [],
   "source": [
    "output_file = \"jio_mart_mapped.csv\"\n",
    "jio_mart_df.to_csv(output_file, index=False)"
   ]
  }
 ],
 "metadata": {
  "kernelspec": {
   "display_name": "Python 3",
   "language": "python",
   "name": "python3"
  },
  "language_info": {
   "codemirror_mode": {
    "name": "ipython",
    "version": 3
   },
   "file_extension": ".py",
   "mimetype": "text/x-python",
   "name": "python",
   "nbconvert_exporter": "python",
   "pygments_lexer": "ipython3",
   "version": "3.13.5"
  }
 },
 "nbformat": 4,
 "nbformat_minor": 5
}
