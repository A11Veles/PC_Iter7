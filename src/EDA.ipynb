{
 "cells": [
  {
   "cell_type": "markdown",
   "id": "e262c5fc",
   "metadata": {},
   "source": [
    "# Import packages"
   ]
  },
  {
   "cell_type": "code",
   "execution_count": 168,
   "id": "5cff14ac",
   "metadata": {},
   "outputs": [],
   "source": [
    "import pandas as pd\n",
    "from teradataml import *\n",
    "import ast\n",
    "import json\n",
    "import matplotlib.pyplot as plt\n",
    "\n",
    "\n",
    "from utils import clean_text\n",
    "from constants import (\n",
    "JIO_MART_DATASET_MAPPED, MWPD_FULL_DATASET, USDA_TO_CPG, EXTRA_FOOD_DATA, MANUALLY_LABELLED_DATASET, JIO_MART_DATASET, GPC_PATH\n",
    ")\n"
   ]
  },
  {
   "cell_type": "code",
   "execution_count": null,
   "id": "ece6ee08",
   "metadata": {},
   "outputs": [],
   "source": [
    "def preprocess_keep_symbols(text):\n",
    "    if pd.isna(text): return \"\"\n",
    "    text = re.sub(r'\\d+', '', text)  \n",
    "    text = re.sub(r'[^a-z0-9\\s\\+\\-/\\.]', ' ', text)\n",
    "    return ' '.join(text.split())"
   ]
  },
  {
   "cell_type": "markdown",
   "id": "63fb8c89",
   "metadata": {},
   "source": [
    "## MWPD Dataset"
   ]
  },
  {
   "cell_type": "code",
   "execution_count": 96,
   "id": "d48f257e",
   "metadata": {},
   "outputs": [
    {
     "data": {
      "text/html": [
       "<div>\n",
       "<style scoped>\n",
       "    .dataframe tbody tr th:only-of-type {\n",
       "        vertical-align: middle;\n",
       "    }\n",
       "\n",
       "    .dataframe tbody tr th {\n",
       "        vertical-align: top;\n",
       "    }\n",
       "\n",
       "    .dataframe thead th {\n",
       "        text-align: right;\n",
       "    }\n",
       "</style>\n",
       "<table border=\"1\" class=\"dataframe\">\n",
       "  <thead>\n",
       "    <tr style=\"text-align: right;\">\n",
       "      <th></th>\n",
       "      <th>Name</th>\n",
       "      <th>Description</th>\n",
       "      <th>SegmentTitle</th>\n",
       "      <th>FamilyTitle</th>\n",
       "      <th>ClassTitle</th>\n",
       "    </tr>\n",
       "  </thead>\n",
       "  <tbody>\n",
       "    <tr>\n",
       "      <th>0</th>\n",
       "      <td>Sterling Silver Angel Charm</td>\n",
       "      <td>This little angel charm is just heavenly</td>\n",
       "      <td>64000000_Personal Accessories</td>\n",
       "      <td>64010000_Personal Accessories</td>\n",
       "      <td>64010100_Jewellery</td>\n",
       "    </tr>\n",
       "    <tr>\n",
       "      <th>1</th>\n",
       "      <td>HP Pavilion 23xi 58.40 cm (23�) IPS Monitor</td>\n",
       "      <td>Share photos, videos, and games with everyone ...</td>\n",
       "      <td>65000000_Computing</td>\n",
       "      <td>65010000_Computers/Video Games</td>\n",
       "      <td>65010700_Computer/Video Game Peripherals</td>\n",
       "    </tr>\n",
       "    <tr>\n",
       "      <th>2</th>\n",
       "      <td>East Carolina Pirates Ladies Personalized Bask...</td>\n",
       "      <td>Feel like a bona fide member of East Carolina ...</td>\n",
       "      <td>67000000_Clothing</td>\n",
       "      <td>67010000_Clothing</td>\n",
       "      <td>67010800_Upper Body Wear/Tops</td>\n",
       "    </tr>\n",
       "    <tr>\n",
       "      <th>3</th>\n",
       "      <td>Tekonsha 90195 P3 Electric Brake Control, 1-4 ...</td>\n",
       "      <td>Receive free shipping on this item. Enter coup...</td>\n",
       "      <td>77000000_Automotive</td>\n",
       "      <td>77010000_Automotive Accessories and Maintenance</td>\n",
       "      <td>77011200_Automotive Maintenance/Repair</td>\n",
       "    </tr>\n",
       "    <tr>\n",
       "      <th>4</th>\n",
       "      <td>RN-XV WiFly Module - Wire Antenna</td>\n",
       "      <td>Description: The RN-XV module by Roving Networ...</td>\n",
       "      <td>78000000_Electrical Supplies</td>\n",
       "      <td>78050000_Electronic Communication Components</td>\n",
       "      <td>78050100_Electronic Communication Components</td>\n",
       "    </tr>\n",
       "  </tbody>\n",
       "</table>\n",
       "</div>"
      ],
      "text/plain": [
       "                                                Name  \\\n",
       "0                        Sterling Silver Angel Charm   \n",
       "1        HP Pavilion 23xi 58.40 cm (23�) IPS Monitor   \n",
       "2  East Carolina Pirates Ladies Personalized Bask...   \n",
       "3  Tekonsha 90195 P3 Electric Brake Control, 1-4 ...   \n",
       "4                  RN-XV WiFly Module - Wire Antenna   \n",
       "\n",
       "                                         Description  \\\n",
       "0           This little angel charm is just heavenly   \n",
       "1  Share photos, videos, and games with everyone ...   \n",
       "2  Feel like a bona fide member of East Carolina ...   \n",
       "3  Receive free shipping on this item. Enter coup...   \n",
       "4  Description: The RN-XV module by Roving Networ...   \n",
       "\n",
       "                    SegmentTitle  \\\n",
       "0  64000000_Personal Accessories   \n",
       "1             65000000_Computing   \n",
       "2              67000000_Clothing   \n",
       "3            77000000_Automotive   \n",
       "4   78000000_Electrical Supplies   \n",
       "\n",
       "                                       FamilyTitle  \\\n",
       "0                    64010000_Personal Accessories   \n",
       "1                   65010000_Computers/Video Games   \n",
       "2                                67010000_Clothing   \n",
       "3  77010000_Automotive Accessories and Maintenance   \n",
       "4     78050000_Electronic Communication Components   \n",
       "\n",
       "                                     ClassTitle  \n",
       "0                            64010100_Jewellery  \n",
       "1      65010700_Computer/Video Game Peripherals  \n",
       "2                 67010800_Upper Body Wear/Tops  \n",
       "3        77011200_Automotive Maintenance/Repair  \n",
       "4  78050100_Electronic Communication Components  "
      ]
     },
     "execution_count": 96,
     "metadata": {},
     "output_type": "execute_result"
    }
   ],
   "source": [
    "mwpd_df = pd.read_csv(MWPD_FULL_DATASET)\n",
    "mwpd_df.head(5)"
   ]
  },
  {
   "cell_type": "code",
   "execution_count": 94,
   "id": "0ac3dc63",
   "metadata": {},
   "outputs": [
    {
     "name": "stdout",
     "output_type": "stream",
     "text": [
      "<class 'pandas.core.frame.DataFrame'>\n",
      "RangeIndex: 16119 entries, 0 to 16118\n",
      "Data columns (total 5 columns):\n",
      " #   Column        Non-Null Count  Dtype \n",
      "---  ------        --------------  ----- \n",
      " 0   Name          16119 non-null  object\n",
      " 1   Description   16119 non-null  object\n",
      " 2   SegmentTitle  16119 non-null  object\n",
      " 3   FamilyTitle   16119 non-null  object\n",
      " 4   ClassTitle    16119 non-null  object\n",
      "dtypes: object(5)\n",
      "memory usage: 629.8+ KB\n"
     ]
    }
   ],
   "source": [
    "mwpd_df.info()"
   ]
  },
  {
   "cell_type": "code",
   "execution_count": 9,
   "id": "adb49675",
   "metadata": {},
   "outputs": [
    {
     "name": "stderr",
     "output_type": "stream",
     "text": [
      "C:\\Users\\ss255385\\AppData\\Local\\Temp\\ipykernel_5096\\767690336.py:1: FutureWarning: DataFrame.applymap has been deprecated. Use DataFrame.map instead.\n",
      "  mwpd_df = mwpd_df.applymap(preprocess_keep_symbols)\n"
     ]
    }
   ],
   "source": [
    "mwpd_df = mwpd_df.applymap(preprocess_keep_symbols)"
   ]
  },
  {
   "cell_type": "code",
   "execution_count": 10,
   "id": "7dc8ecc3",
   "metadata": {},
   "outputs": [
    {
     "data": {
      "text/plain": [
       "Name            0\n",
       "Description     0\n",
       "SegmentTitle    0\n",
       "FamilyTitle     0\n",
       "ClassTitle      0\n",
       "dtype: int64"
      ]
     },
     "execution_count": 10,
     "metadata": {},
     "output_type": "execute_result"
    }
   ],
   "source": [
    "mwpd_df.isna().sum()"
   ]
  },
  {
   "cell_type": "code",
   "execution_count": 11,
   "id": "69256952",
   "metadata": {},
   "outputs": [
    {
     "name": "stdout",
     "output_type": "stream",
     "text": [
      "Unique SegmentTitle: 37\n",
      "Unique FamilyTitle: 76\n",
      "Unique ClassTitle: 283\n"
     ]
    }
   ],
   "source": [
    "for col in [\"SegmentTitle\", \"FamilyTitle\", \"ClassTitle\"]:\n",
    "    print(f\"Unique {col}: {mwpd_df[col].nunique()}\")"
   ]
  },
  {
   "cell_type": "code",
   "execution_count": 78,
   "id": "66e9e7db",
   "metadata": {},
   "outputs": [
    {
     "data": {
      "image/png": "[encoded data removed]",
      "text/plain": [
       "<Figure size 1000x500 with 1 Axes>"
      ]
     },
     "metadata": {},
     "output_type": "display_data"
    }
   ],
   "source": [
    "plt.figure(figsize=(10,5))\n",
    "mwpd_df[\"SegmentTitle\"].value_counts().head(5).plot(kind=\"bar\")\n",
    "plt.title(\"Top 5 Segments by Product Count\")\n",
    "plt.ylabel(\"Count\")\n",
    "plt.show()"
   ]
  },
  {
   "cell_type": "code",
   "execution_count": 79,
   "id": "e351678d",
   "metadata": {},
   "outputs": [
    {
     "data": {
      "image/png": "[encoded data removed]",
      "text/plain": [
       "<Figure size 1000x500 with 1 Axes>"
      ]
     },
     "metadata": {},
     "output_type": "display_data"
    }
   ],
   "source": [
    "plt.figure(figsize=(10,5))\n",
    "mwpd_df[\"FamilyTitle\"].value_counts().head(5).plot(kind=\"bar\", color=\"orange\")\n",
    "plt.title(\"Top 5 Families by Product Count\")\n",
    "plt.ylabel(\"Count\")\n",
    "plt.show()"
   ]
  },
  {
   "cell_type": "code",
   "execution_count": 80,
   "id": "549185f1",
   "metadata": {},
   "outputs": [
    {
     "data": {
      "image/png": "[encoded data removed]",
      "text/plain": [
       "<Figure size 1000x500 with 1 Axes>"
      ]
     },
     "metadata": {},
     "output_type": "display_data"
    }
   ],
   "source": [
    "plt.figure(figsize=(10,5))\n",
    "mwpd_df[\"ClassTitle\"].value_counts().head(5).plot(kind=\"bar\", color=\"green\")\n",
    "plt.title(\"Top 5 Classes by Product Count\")\n",
    "plt.ylabel(\"Count\")\n",
    "plt.show()"
   ]
  },
  {
   "cell_type": "code",
   "execution_count": 8,
   "id": "487fcb69",
   "metadata": {},
   "outputs": [
    {
     "name": "stdout",
     "output_type": "stream",
     "text": [
      "\n",
      "Families mapping to multiple Segments: 0\n"
     ]
    }
   ],
   "source": [
    "seg_fam = mwpd_df.groupby(\"FamilyTitle\")[\"SegmentTitle\"].nunique()\n",
    "print(\"\\nFamilies mapping to multiple Segments:\", (seg_fam > 1).sum())"
   ]
  },
  {
   "cell_type": "code",
   "execution_count": 9,
   "id": "111c54e6",
   "metadata": {},
   "outputs": [
    {
     "name": "stdout",
     "output_type": "stream",
     "text": [
      "Classes mapping to multiple Families: 1\n"
     ]
    }
   ],
   "source": [
    "fam_cls = mwpd_df.groupby(\"ClassTitle\")[\"FamilyTitle\"].nunique()\n",
    "print(\"Classes mapping to multiple Families:\", (fam_cls > 1).sum())"
   ]
  },
  {
   "cell_type": "code",
   "execution_count": 19,
   "id": "fc4f25e4",
   "metadata": {},
   "outputs": [
    {
     "name": "stdout",
     "output_type": "stream",
     "text": [
      "\n",
      "Products per Segment (top 5):\n"
     ]
    },
    {
     "data": {
      "text/plain": [
       "SegmentTitle\n",
       "clothing                                  6887\n",
       "personal accessories                       962\n",
       "household/office furniture/furnishings     910\n",
       "automotive                                 846\n",
       "computing                                  642\n",
       "Name: Name, dtype: int64"
      ]
     },
     "execution_count": 19,
     "metadata": {},
     "output_type": "execute_result"
    }
   ],
   "source": [
    "print(\"\\nProducts per Segment (top 5):\")\n",
    "mwpd_df.groupby(\"SegmentTitle\")[\"Name\"].count().sort_values(ascending=False).head(5)"
   ]
  },
  {
   "cell_type": "code",
   "execution_count": 20,
   "id": "2d932703",
   "metadata": {},
   "outputs": [
    {
     "name": "stdout",
     "output_type": "stream",
     "text": [
      "\n",
      "Products per Segment (lower 5):\n"
     ]
    },
    {
     "data": {
      "text/plain": [
       "SegmentTitle\n",
       "horticulture plants           26\n",
       "storage/haulage containers    18\n",
       "fuels/gases                    7\n",
       "tool storage/workshop aids     6\n",
       "lubricants                     2\n",
       "Name: Name, dtype: int64"
      ]
     },
     "execution_count": 20,
     "metadata": {},
     "output_type": "execute_result"
    }
   ],
   "source": [
    "print(\"\\nProducts per Segment (lower 5):\")\n",
    "mwpd_df.groupby(\"SegmentTitle\")[\"Name\"].count().sort_values(ascending=False).tail(5)"
   ]
  },
  {
   "cell_type": "code",
   "execution_count": 21,
   "id": "bcf6ba5c",
   "metadata": {},
   "outputs": [
    {
     "name": "stdout",
     "output_type": "stream",
     "text": [
      "\n",
      "Products per Family (top 5):\n"
     ]
    },
    {
     "data": {
      "text/plain": [
       "FamilyTitle\n",
       "clothing                                  6887\n",
       "personal accessories                       962\n",
       "computers/video games                      642\n",
       "automotive accessories and maintenance     617\n",
       "ornamental furnishings                     595\n",
       "Name: Name, dtype: int64"
      ]
     },
     "execution_count": 21,
     "metadata": {},
     "output_type": "execute_result"
    }
   ],
   "source": [
    "print(\"\\nProducts per Family (top 5):\")\n",
    "mwpd_df.groupby(\"FamilyTitle\")[\"Name\"].count().sort_values(ascending=False).head(5)"
   ]
  },
  {
   "cell_type": "code",
   "execution_count": 22,
   "id": "951f75a5",
   "metadata": {},
   "outputs": [
    {
     "name": "stdout",
     "output_type": "stream",
     "text": [
      "\n",
      "Products per Family (lower 5):\n"
     ]
    },
    {
     "data": {
      "text/plain": [
       "FamilyTitle\n",
       "stationery/office machinery/occasion supplies variety packs    3\n",
       "waste management products                                      3\n",
       "live plants genus a thru g                                     2\n",
       "lubricants/protective compounds                                2\n",
       "plants variety packs                                           2\n",
       "Name: Name, dtype: int64"
      ]
     },
     "execution_count": 22,
     "metadata": {},
     "output_type": "execute_result"
    }
   ],
   "source": [
    "print(\"\\nProducts per Family (lower 5):\")\n",
    "mwpd_df.groupby(\"FamilyTitle\")[\"Name\"].count().sort_values(ascending=False).tail(5)"
   ]
  },
  {
   "cell_type": "code",
   "execution_count": 23,
   "id": "74811158",
   "metadata": {},
   "outputs": [
    {
     "name": "stdout",
     "output_type": "stream",
     "text": [
      "\n",
      "Products per Class (top 5):\n"
     ]
    },
    {
     "data": {
      "text/plain": [
       "ClassTitle\n",
       "upper body wear/tops             4979\n",
       "clothing accessories             1109\n",
       "personal carriers/accessories     513\n",
       "ornaments                         370\n",
       "pet accessories                   350\n",
       "Name: Name, dtype: int64"
      ]
     },
     "execution_count": 23,
     "metadata": {},
     "output_type": "execute_result"
    }
   ],
   "source": [
    "print(\"\\nProducts per Class (top 5):\")\n",
    "mwpd_df.groupby(\"ClassTitle\")[\"Name\"].count().sort_values(ascending=False).head(5)"
   ]
  },
  {
   "cell_type": "code",
   "execution_count": 24,
   "id": "2bfce79e",
   "metadata": {},
   "outputs": [
    {
     "name": "stdout",
     "output_type": "stream",
     "text": [
      "\n",
      "Products per Class (lower 5):\n"
     ]
    },
    {
     "data": {
      "text/plain": [
       "ClassTitle\n",
       "role play toys                             1\n",
       "beverages variety packs                    1\n",
       "automotive trailers/trailer accessories    1\n",
       "tools/equipment hand variety packs         1\n",
       "toys/games variety packs                   1\n",
       "Name: Name, dtype: int64"
      ]
     },
     "execution_count": 24,
     "metadata": {},
     "output_type": "execute_result"
    }
   ],
   "source": [
    "print(\"\\nProducts per Class (lower 5):\")\n",
    "mwpd_df.groupby(\"ClassTitle\")[\"Name\"].count().sort_values(ascending=False).tail(5)"
   ]
  },
  {
   "cell_type": "markdown",
   "id": "2a629fff",
   "metadata": {},
   "source": [
    "## Jio Mart"
   ]
  },
  {
   "cell_type": "code",
   "execution_count": 26,
   "id": "a9f480c7",
   "metadata": {},
   "outputs": [
    {
     "name": "stdout",
     "output_type": "stream",
     "text": [
      "<class 'pandas.core.frame.DataFrame'>\n",
      "Index: 162280 entries, 0 to 162312\n",
      "Data columns (total 3 columns):\n",
      " #   Column        Non-Null Count   Dtype \n",
      "---  ------        --------------   ----- \n",
      " 0   category      162280 non-null  object\n",
      " 1   sub_category  162280 non-null  object\n",
      " 2   product name  162280 non-null  object\n",
      "dtypes: object(3)\n",
      "memory usage: 5.0+ MB\n"
     ]
    }
   ],
   "source": [
    "jio_mart_df = pd.read_csv(JIO_MART_DATASET)\n",
    "jio_mart_df = jio_mart_df.loc[~jio_mart_df['items'].isna(), :]\n",
    "jio_mart_df = jio_mart_df.drop(columns=['href', 'price'])\n",
    "jio_mart_df.rename(columns={'items': 'product name'}, inplace=True)\n",
    "jio_mart_df.info()"
   ]
  },
  {
   "cell_type": "code",
   "execution_count": 106,
   "id": "ff874925",
   "metadata": {},
   "outputs": [
    {
     "data": {
      "text/html": [
       "<div>\n",
       "<style scoped>\n",
       "    .dataframe tbody tr th:only-of-type {\n",
       "        vertical-align: middle;\n",
       "    }\n",
       "\n",
       "    .dataframe tbody tr th {\n",
       "        vertical-align: top;\n",
       "    }\n",
       "\n",
       "    .dataframe thead th {\n",
       "        text-align: right;\n",
       "    }\n",
       "</style>\n",
       "<table border=\"1\" class=\"dataframe\">\n",
       "  <thead>\n",
       "    <tr style=\"text-align: right;\">\n",
       "      <th></th>\n",
       "      <th>category</th>\n",
       "      <th>sub_category</th>\n",
       "      <th>href</th>\n",
       "      <th>items</th>\n",
       "      <th>price</th>\n",
       "    </tr>\n",
       "  </thead>\n",
       "  <tbody>\n",
       "    <tr>\n",
       "      <th>0</th>\n",
       "      <td>Groceries</td>\n",
       "      <td>Fruits &amp; Vegetables</td>\n",
       "      <td>https://www.jiomart.com/c/groceries/fruits-veg...</td>\n",
       "      <td>Fresh Dates (Pack) (Approx 450 g - 500 g)</td>\n",
       "      <td>109.0</td>\n",
       "    </tr>\n",
       "    <tr>\n",
       "      <th>1</th>\n",
       "      <td>Groceries</td>\n",
       "      <td>Fruits &amp; Vegetables</td>\n",
       "      <td>https://www.jiomart.com/c/groceries/fruits-veg...</td>\n",
       "      <td>Tender Coconut Cling Wrapped (1 pc) (Approx 90...</td>\n",
       "      <td>49.0</td>\n",
       "    </tr>\n",
       "    <tr>\n",
       "      <th>2</th>\n",
       "      <td>Groceries</td>\n",
       "      <td>Fruits &amp; Vegetables</td>\n",
       "      <td>https://www.jiomart.com/c/groceries/fruits-veg...</td>\n",
       "      <td>Mosambi 1 kg</td>\n",
       "      <td>69.0</td>\n",
       "    </tr>\n",
       "    <tr>\n",
       "      <th>3</th>\n",
       "      <td>Groceries</td>\n",
       "      <td>Fruits &amp; Vegetables</td>\n",
       "      <td>https://www.jiomart.com/c/groceries/fruits-veg...</td>\n",
       "      <td>Orange Imported 1 kg</td>\n",
       "      <td>125.0</td>\n",
       "    </tr>\n",
       "    <tr>\n",
       "      <th>4</th>\n",
       "      <td>Groceries</td>\n",
       "      <td>Fruits &amp; Vegetables</td>\n",
       "      <td>https://www.jiomart.com/c/groceries/fruits-veg...</td>\n",
       "      <td>Banana Robusta 6 pcs (Box) (Approx 800 g - 110...</td>\n",
       "      <td>44.0</td>\n",
       "    </tr>\n",
       "  </tbody>\n",
       "</table>\n",
       "</div>"
      ],
      "text/plain": [
       "    category         sub_category  \\\n",
       "0  Groceries  Fruits & Vegetables   \n",
       "1  Groceries  Fruits & Vegetables   \n",
       "2  Groceries  Fruits & Vegetables   \n",
       "3  Groceries  Fruits & Vegetables   \n",
       "4  Groceries  Fruits & Vegetables   \n",
       "\n",
       "                                                href  \\\n",
       "0  https://www.jiomart.com/c/groceries/fruits-veg...   \n",
       "1  https://www.jiomart.com/c/groceries/fruits-veg...   \n",
       "2  https://www.jiomart.com/c/groceries/fruits-veg...   \n",
       "3  https://www.jiomart.com/c/groceries/fruits-veg...   \n",
       "4  https://www.jiomart.com/c/groceries/fruits-veg...   \n",
       "\n",
       "                                               items  price  \n",
       "0          Fresh Dates (Pack) (Approx 450 g - 500 g)  109.0  \n",
       "1  Tender Coconut Cling Wrapped (1 pc) (Approx 90...   49.0  \n",
       "2                                       Mosambi 1 kg   69.0  \n",
       "3                               Orange Imported 1 kg  125.0  \n",
       "4  Banana Robusta 6 pcs (Box) (Approx 800 g - 110...   44.0  "
      ]
     },
     "execution_count": 106,
     "metadata": {},
     "output_type": "execute_result"
    }
   ],
   "source": [
    "jio_mart_df = pd.read_csv(JIO_MART_DATASET)\n",
    "jio_mart_df.head()"
   ]
  },
  {
   "cell_type": "code",
   "execution_count": 28,
   "id": "d3ce7052",
   "metadata": {},
   "outputs": [
    {
     "data": {
      "text/plain": [
       "6"
      ]
     },
     "execution_count": 28,
     "metadata": {},
     "output_type": "execute_result"
    }
   ],
   "source": [
    "jio_mart_df_cateogires = jio_mart_df[\"category\"].nunique()\n",
    "jio_mart_df_cateogires"
   ]
  },
  {
   "cell_type": "code",
   "execution_count": 29,
   "id": "55711279",
   "metadata": {},
   "outputs": [
    {
     "data": {
      "text/plain": [
       "69"
      ]
     },
     "execution_count": 29,
     "metadata": {},
     "output_type": "execute_result"
    }
   ],
   "source": [
    "jio_mart_df_sub_cateogires = jio_mart_df[\"sub_category\"].nunique()\n",
    "jio_mart_df_sub_cateogires"
   ]
  },
  {
   "cell_type": "code",
   "execution_count": 60,
   "id": "402ab9eb",
   "metadata": {},
   "outputs": [
    {
     "data": {
      "text/html": [
       "<div>\n",
       "<style scoped>\n",
       "    .dataframe tbody tr th:only-of-type {\n",
       "        vertical-align: middle;\n",
       "    }\n",
       "\n",
       "    .dataframe tbody tr th {\n",
       "        vertical-align: top;\n",
       "    }\n",
       "\n",
       "    .dataframe thead th {\n",
       "        text-align: right;\n",
       "    }\n",
       "</style>\n",
       "<table border=\"1\" class=\"dataframe\">\n",
       "  <thead>\n",
       "    <tr style=\"text-align: right;\">\n",
       "      <th></th>\n",
       "      <th>category</th>\n",
       "      <th>sub_category</th>\n",
       "      <th>product name</th>\n",
       "    </tr>\n",
       "  </thead>\n",
       "  <tbody>\n",
       "    <tr>\n",
       "      <th>0</th>\n",
       "      <td>Groceries</td>\n",
       "      <td>Fruits &amp; Vegetables</td>\n",
       "      <td>Fresh Dates (Pack) (Approx 450 g - 500 g)</td>\n",
       "    </tr>\n",
       "    <tr>\n",
       "      <th>1</th>\n",
       "      <td>Groceries</td>\n",
       "      <td>Fruits &amp; Vegetables</td>\n",
       "      <td>Tender Coconut Cling Wrapped (1 pc) (Approx 90...</td>\n",
       "    </tr>\n",
       "    <tr>\n",
       "      <th>2</th>\n",
       "      <td>Groceries</td>\n",
       "      <td>Fruits &amp; Vegetables</td>\n",
       "      <td>Mosambi 1 kg</td>\n",
       "    </tr>\n",
       "    <tr>\n",
       "      <th>3</th>\n",
       "      <td>Groceries</td>\n",
       "      <td>Fruits &amp; Vegetables</td>\n",
       "      <td>Orange Imported 1 kg</td>\n",
       "    </tr>\n",
       "    <tr>\n",
       "      <th>4</th>\n",
       "      <td>Groceries</td>\n",
       "      <td>Fruits &amp; Vegetables</td>\n",
       "      <td>Banana Robusta 6 pcs (Box) (Approx 800 g - 110...</td>\n",
       "    </tr>\n",
       "  </tbody>\n",
       "</table>\n",
       "</div>"
      ],
      "text/plain": [
       "    category         sub_category  \\\n",
       "0  Groceries  Fruits & Vegetables   \n",
       "1  Groceries  Fruits & Vegetables   \n",
       "2  Groceries  Fruits & Vegetables   \n",
       "3  Groceries  Fruits & Vegetables   \n",
       "4  Groceries  Fruits & Vegetables   \n",
       "\n",
       "                                        product name  \n",
       "0          Fresh Dates (Pack) (Approx 450 g - 500 g)  \n",
       "1  Tender Coconut Cling Wrapped (1 pc) (Approx 90...  \n",
       "2                                       Mosambi 1 kg  \n",
       "3                               Orange Imported 1 kg  \n",
       "4  Banana Robusta 6 pcs (Box) (Approx 800 g - 110...  "
      ]
     },
     "execution_count": 60,
     "metadata": {},
     "output_type": "execute_result"
    }
   ],
   "source": [
    "jio_mart_df.head()"
   ]
  },
  {
   "cell_type": "code",
   "execution_count": 30,
   "id": "7e7bec6d",
   "metadata": {},
   "outputs": [
    {
     "data": {
      "text/plain": [
       "category        0\n",
       "sub_category    0\n",
       "product name    0\n",
       "dtype: int64"
      ]
     },
     "execution_count": 30,
     "metadata": {},
     "output_type": "execute_result"
    }
   ],
   "source": [
    "jio_mart_df.isna().sum()"
   ]
  },
  {
   "cell_type": "code",
   "execution_count": 44,
   "id": "70b2fa07",
   "metadata": {},
   "outputs": [],
   "source": [
    "jio_mart_df_mapped = pd.read_csv(JIO_MART_DATASET_MAPPED)"
   ]
  },
  {
   "cell_type": "code",
   "execution_count": 45,
   "id": "5984976b",
   "metadata": {},
   "outputs": [
    {
     "data": {
      "text/html": [
       "<div>\n",
       "<style scoped>\n",
       "    .dataframe tbody tr th:only-of-type {\n",
       "        vertical-align: middle;\n",
       "    }\n",
       "\n",
       "    .dataframe tbody tr th {\n",
       "        vertical-align: top;\n",
       "    }\n",
       "\n",
       "    .dataframe thead th {\n",
       "        text-align: right;\n",
       "    }\n",
       "</style>\n",
       "<table border=\"1\" class=\"dataframe\">\n",
       "  <thead>\n",
       "    <tr style=\"text-align: right;\">\n",
       "      <th></th>\n",
       "      <th>category</th>\n",
       "      <th>sub_category</th>\n",
       "      <th>product name</th>\n",
       "      <th>Segment</th>\n",
       "      <th>Family</th>\n",
       "      <th>Class</th>\n",
       "      <th>Brick</th>\n",
       "    </tr>\n",
       "  </thead>\n",
       "  <tbody>\n",
       "    <tr>\n",
       "      <th>0</th>\n",
       "      <td>Groceries</td>\n",
       "      <td>Fruits &amp; Vegetables</td>\n",
       "      <td>Fresh Dates (Pack) (Approx 450 g - 500 g)</td>\n",
       "      <td>Food/Beverage</td>\n",
       "      <td>Fruits/Vegetables Fresh Cut</td>\n",
       "      <td>NaN</td>\n",
       "      <td>NaN</td>\n",
       "    </tr>\n",
       "    <tr>\n",
       "      <th>1</th>\n",
       "      <td>Groceries</td>\n",
       "      <td>Fruits &amp; Vegetables</td>\n",
       "      <td>Tender Coconut Cling Wrapped (1 pc) (Approx 90...</td>\n",
       "      <td>Food/Beverage</td>\n",
       "      <td>Fruits/Vegetables Fresh Cut</td>\n",
       "      <td>NaN</td>\n",
       "      <td>NaN</td>\n",
       "    </tr>\n",
       "    <tr>\n",
       "      <th>2</th>\n",
       "      <td>Groceries</td>\n",
       "      <td>Fruits &amp; Vegetables</td>\n",
       "      <td>Mosambi 1 kg</td>\n",
       "      <td>Food/Beverage</td>\n",
       "      <td>Fruits/Vegetables Fresh Cut</td>\n",
       "      <td>NaN</td>\n",
       "      <td>NaN</td>\n",
       "    </tr>\n",
       "    <tr>\n",
       "      <th>3</th>\n",
       "      <td>Groceries</td>\n",
       "      <td>Fruits &amp; Vegetables</td>\n",
       "      <td>Orange Imported 1 kg</td>\n",
       "      <td>Food/Beverage</td>\n",
       "      <td>Fruits/Vegetables Fresh Cut</td>\n",
       "      <td>NaN</td>\n",
       "      <td>NaN</td>\n",
       "    </tr>\n",
       "    <tr>\n",
       "      <th>4</th>\n",
       "      <td>Groceries</td>\n",
       "      <td>Fruits &amp; Vegetables</td>\n",
       "      <td>Banana Robusta 6 pcs (Box) (Approx 800 g - 110...</td>\n",
       "      <td>Food/Beverage</td>\n",
       "      <td>Fruits/Vegetables Fresh Cut</td>\n",
       "      <td>NaN</td>\n",
       "      <td>NaN</td>\n",
       "    </tr>\n",
       "  </tbody>\n",
       "</table>\n",
       "</div>"
      ],
      "text/plain": [
       "    category         sub_category  \\\n",
       "0  Groceries  Fruits & Vegetables   \n",
       "1  Groceries  Fruits & Vegetables   \n",
       "2  Groceries  Fruits & Vegetables   \n",
       "3  Groceries  Fruits & Vegetables   \n",
       "4  Groceries  Fruits & Vegetables   \n",
       "\n",
       "                                        product name        Segment  \\\n",
       "0          Fresh Dates (Pack) (Approx 450 g - 500 g)  Food/Beverage   \n",
       "1  Tender Coconut Cling Wrapped (1 pc) (Approx 90...  Food/Beverage   \n",
       "2                                       Mosambi 1 kg  Food/Beverage   \n",
       "3                               Orange Imported 1 kg  Food/Beverage   \n",
       "4  Banana Robusta 6 pcs (Box) (Approx 800 g - 110...  Food/Beverage   \n",
       "\n",
       "                        Family Class  Brick  \n",
       "0  Fruits/Vegetables Fresh Cut   NaN    NaN  \n",
       "1  Fruits/Vegetables Fresh Cut   NaN    NaN  \n",
       "2  Fruits/Vegetables Fresh Cut   NaN    NaN  \n",
       "3  Fruits/Vegetables Fresh Cut   NaN    NaN  \n",
       "4  Fruits/Vegetables Fresh Cut   NaN    NaN  "
      ]
     },
     "execution_count": 45,
     "metadata": {},
     "output_type": "execute_result"
    }
   ],
   "source": [
    "jio_mart_df_mapped.head()"
   ]
  },
  {
   "cell_type": "code",
   "execution_count": 125,
   "id": "83666b69",
   "metadata": {},
   "outputs": [
    {
     "data": {
      "text/plain": [
       "category                                                   Beauty\n",
       "sub_category                                       Men's Grooming\n",
       "product name    Urban Gabru Beard Oil - Menthol Fresh with Ora...\n",
       "Segment                              Beauty/Personal Care/Hygiene\n",
       "Family                                  Personal Hygiene Products\n",
       "Class                                    General Personal Hygiene\n",
       "Brick                                                         NaN\n",
       "Name: 162103, dtype: object"
      ]
     },
     "execution_count": 125,
     "metadata": {},
     "output_type": "execute_result"
    }
   ],
   "source": [
    "jio_mart_df_mapped.iloc[162103]"
   ]
  },
  {
   "cell_type": "code",
   "execution_count": null,
   "id": "2369216c",
   "metadata": {},
   "outputs": [
    {
     "name": "stderr",
     "output_type": "stream",
     "text": [
      "C:\\Users\\ss255385\\AppData\\Local\\Temp\\ipykernel_5096\\3092287498.py:1: FutureWarning: DataFrame.applymap has been deprecated. Use DataFrame.map instead.\n",
      "  jio_mart_df_mapped = jio_mart_df_mapped.applymap(preprocess_keep_symbols)\n"
     ]
    }
   ],
   "source": [
    "# jio_mart_df_mapped = jio_mart_df_mapped.applymap(preprocess_keep_symbols)"
   ]
  },
  {
   "cell_type": "code",
   "execution_count": 97,
   "id": "d47fceca",
   "metadata": {},
   "outputs": [
    {
     "name": "stdout",
     "output_type": "stream",
     "text": [
      "Unique Segment: 23\n",
      "Unique Family: 39\n",
      "Unique Class: 25\n",
      "Unique Brick: 0\n"
     ]
    }
   ],
   "source": [
    "for col in [\"Segment\", \"Family\", \"Class\", \"Brick\"]:\n",
    "    print(f\"Unique {col}: {jio_mart_df_mapped[col].nunique()}\")"
   ]
  },
  {
   "cell_type": "code",
   "execution_count": 81,
   "id": "53978ed6",
   "metadata": {},
   "outputs": [
    {
     "data": {
      "image/png": "[encoded data removed]",
      "text/plain": [
       "<Figure size 1000x500 with 1 Axes>"
      ]
     },
     "metadata": {},
     "output_type": "display_data"
    }
   ],
   "source": [
    "plt.figure(figsize=(10,5))\n",
    "jio_mart_df_mapped[\"Segment\"].value_counts().head(5).plot(kind=\"bar\")\n",
    "plt.title(\"Top 5 Segments by Product Count\")\n",
    "plt.ylabel(\"Count\")\n",
    "plt.show()"
   ]
  },
  {
   "cell_type": "code",
   "execution_count": 82,
   "id": "4d2ec62c",
   "metadata": {},
   "outputs": [
    {
     "data": {
      "image/png": "[encoded data removed]",
      "text/plain": [
       "<Figure size 1000x500 with 1 Axes>"
      ]
     },
     "metadata": {},
     "output_type": "display_data"
    }
   ],
   "source": [
    "plt.figure(figsize=(10,5))\n",
    "jio_mart_df_mapped[\"Family\"].value_counts().head(5).plot(kind=\"bar\", color=\"orange\")\n",
    "plt.title(\"Top 5 Families by Product Count\")\n",
    "plt.ylabel(\"Count\")\n",
    "plt.show()"
   ]
  },
  {
   "cell_type": "code",
   "execution_count": 89,
   "id": "fcdec963",
   "metadata": {},
   "outputs": [
    {
     "data": {
      "image/png": "[encoded data removed]",
      "text/plain": [
       "<Figure size 1000x500 with 1 Axes>"
      ]
     },
     "metadata": {},
     "output_type": "display_data"
    }
   ],
   "source": [
    "plt.figure(figsize=(10,5))\n",
    "jio_mart_df_mapped[\"Class\"].value_counts().head(5).plot(kind=\"bar\", color=\"green\")\n",
    "plt.title(\"Top 5 Classes by Product Count\")\n",
    "plt.ylabel(\"Count\")\n",
    "plt.show()"
   ]
  },
  {
   "cell_type": "code",
   "execution_count": 54,
   "id": "9c7c356b",
   "metadata": {},
   "outputs": [
    {
     "name": "stdout",
     "output_type": "stream",
     "text": [
      "\n",
      "Products per Segment (top 5):\n"
     ]
    },
    {
     "data": {
      "text/plain": [
       "Segment\n",
       "Clothing                                  26087\n",
       "Household/Office Furniture/Furnishings    21030\n",
       "Food/Beverage                             18631\n",
       "Beauty/Personal Care/Hygiene              11918\n",
       "Kitchenware And Tableware                  9263\n",
       "Name: product name, dtype: int64"
      ]
     },
     "execution_count": 54,
     "metadata": {},
     "output_type": "execute_result"
    }
   ],
   "source": [
    "print(\"\\nProducts per Segment (top 5):\")\n",
    "jio_mart_df_mapped.groupby(\"Segment\")[\"product name\"].count().sort_values(ascending=False).head(5)"
   ]
  },
  {
   "cell_type": "code",
   "execution_count": 53,
   "id": "40cf0603",
   "metadata": {},
   "outputs": [
    {
     "name": "stdout",
     "output_type": "stream",
     "text": [
      "\n",
      "Products per Segment (lower 5):\n"
     ]
    },
    {
     "data": {
      "text/plain": [
       "Segment\n",
       "Plumbing/Heating/Ventilation/Air Conditioning    231\n",
       "Safety/Security/Surveillance                      61\n",
       "Building Products                                 32\n",
       "Healthcare                                        22\n",
       "Sports Equipment                                   3\n",
       "Name: product name, dtype: int64"
      ]
     },
     "execution_count": 53,
     "metadata": {},
     "output_type": "execute_result"
    }
   ],
   "source": [
    "print(\"\\nProducts per Segment (lower 5):\")\n",
    "jio_mart_df_mapped.groupby(\"Segment\")[\"product name\"].count().sort_values(ascending=False).tail(5)"
   ]
  },
  {
   "cell_type": "code",
   "execution_count": 56,
   "id": "7138aca1",
   "metadata": {},
   "outputs": [
    {
     "name": "stdout",
     "output_type": "stream",
     "text": [
      "\n",
      "Products per Family (top 5):\n"
     ]
    },
    {
     "data": {
      "text/plain": [
       "Family\n",
       "Clothing                        26087\n",
       "Toys/Games                       8594\n",
       "Prepared/Preserved Foods         7986\n",
       "Ornamental Furnishings           7685\n",
       "Household/Office Furnishings     7682\n",
       "Name: product name, dtype: int64"
      ]
     },
     "execution_count": 56,
     "metadata": {},
     "output_type": "execute_result"
    }
   ],
   "source": [
    "print(\"\\nProducts per Family (top 5):\")\n",
    "jio_mart_df_mapped.groupby(\"Family\")[\"product name\"].count().sort_values(ascending=False).head(5)"
   ]
  },
  {
   "cell_type": "code",
   "execution_count": 57,
   "id": "dfc818a6",
   "metadata": {},
   "outputs": [
    {
     "name": "stdout",
     "output_type": "stream",
     "text": [
      "\n",
      "Products per Family (lower 5):\n"
     ]
    },
    {
     "data": {
      "text/plain": [
       "Family\n",
       "Building Products                                32\n",
       "Plumbing/Heating/Ventilation/Air Conditioning    30\n",
       "Beauty/Personal Care/Hygiene Variety Packs       23\n",
       "Medical Devices                                  22\n",
       "Sports Equipment                                  3\n",
       "Name: product name, dtype: int64"
      ]
     },
     "execution_count": 57,
     "metadata": {},
     "output_type": "execute_result"
    }
   ],
   "source": [
    "print(\"\\nProducts per Family (lower 5):\")\n",
    "jio_mart_df_mapped.groupby(\"Family\")[\"product name\"].count().sort_values(ascending=False).tail(5)"
   ]
  },
  {
   "cell_type": "code",
   "execution_count": 58,
   "id": "bbb90748",
   "metadata": {},
   "outputs": [
    {
     "name": "stdout",
     "output_type": "stream",
     "text": [
      "\n",
      "Products per Class (top 5):\n"
     ]
    },
    {
     "data": {
      "text/plain": [
       "Class\n",
       "Snacks                                   7986\n",
       "Root/Tuber Vegetables                    7318\n",
       "Cosmetic/MakeUp Products                 3962\n",
       "Mobile Communication Devices/Services    3895\n",
       "Dinnerware (Non Disposable)              3816\n",
       "Name: product name, dtype: int64"
      ]
     },
     "execution_count": 58,
     "metadata": {},
     "output_type": "execute_result"
    }
   ],
   "source": [
    "print(\"\\nProducts per Class (top 5):\")\n",
    "jio_mart_df_mapped.groupby(\"Class\")[\"product name\"].count().sort_values(ascending=False).head(5)"
   ]
  },
  {
   "cell_type": "code",
   "execution_count": 59,
   "id": "c1cddea5",
   "metadata": {},
   "outputs": [
    {
     "name": "stdout",
     "output_type": "stream",
     "text": [
      "\n",
      "Products per Class (lower 5):\n"
     ]
    },
    {
     "data": {
      "text/plain": [
       "Class\n",
       "General Personal Hygiene                         68\n",
       "Painting                                         31\n",
       "Plumbing/Heating/Ventilation/Air Conditioning    30\n",
       "Medical Devices                                  22\n",
       "Ornaments                                        15\n",
       "Name: product name, dtype: int64"
      ]
     },
     "execution_count": 59,
     "metadata": {},
     "output_type": "execute_result"
    }
   ],
   "source": [
    "print(\"\\nProducts per Class (lower 5):\")\n",
    "jio_mart_df_mapped.groupby(\"Class\")[\"product name\"].count().sort_values(ascending=False).tail(5)"
   ]
  },
  {
   "cell_type": "markdown",
   "id": "feb5773d",
   "metadata": {},
   "source": [
    "## Food Product Image Dataset"
   ]
  },
  {
   "cell_type": "code",
   "execution_count": 111,
   "id": "ebd46f66",
   "metadata": {},
   "outputs": [
    {
     "data": {
      "text/html": [
       "<div>\n",
       "<style scoped>\n",
       "    .dataframe tbody tr th:only-of-type {\n",
       "        vertical-align: middle;\n",
       "    }\n",
       "\n",
       "    .dataframe tbody tr th {\n",
       "        vertical-align: top;\n",
       "    }\n",
       "\n",
       "    .dataframe thead th {\n",
       "        text-align: right;\n",
       "    }\n",
       "</style>\n",
       "<table border=\"1\" class=\"dataframe\">\n",
       "  <thead>\n",
       "    <tr style=\"text-align: right;\">\n",
       "      <th></th>\n",
       "      <th>Name</th>\n",
       "      <th>SegmentTitle</th>\n",
       "      <th>FamilyTitle</th>\n",
       "      <th>ClassTitle</th>\n",
       "      <th>BrickTitle</th>\n",
       "    </tr>\n",
       "  </thead>\n",
       "  <tbody>\n",
       "    <tr>\n",
       "      <th>245</th>\n",
       "      <td>Bio Garten Kresse</td>\n",
       "      <td>Food/Beverage</td>\n",
       "      <td>Leaf Vegetables - Unprepared/Unprocessed (Fresh)</td>\n",
       "      <td>Single Leaf Salad Greens</td>\n",
       "      <td>Watercress</td>\n",
       "    </tr>\n",
       "    <tr>\n",
       "      <th>246</th>\n",
       "      <td>Pflücksalat</td>\n",
       "      <td>Food/Beverage</td>\n",
       "      <td>Leaf Vegetables - Unprepared/Unprocessed (Fresh)</td>\n",
       "      <td>Loose Leaf/Multileaf Salad Greens</td>\n",
       "      <td>Loose Leaf/Multileaf Lettuce Other</td>\n",
       "    </tr>\n",
       "    <tr>\n",
       "      <th>247</th>\n",
       "      <td>Cornetto</td>\n",
       "      <td>Food/Beverage</td>\n",
       "      <td>Prepared/Preserved Foods</td>\n",
       "      <td>Desserts/Desserts Substitutes/Dessert Sauces/T...</td>\n",
       "      <td>Ice Cream/Ice Novelties (Frozen)</td>\n",
       "    </tr>\n",
       "    <tr>\n",
       "      <th>248</th>\n",
       "      <td>Magnum Mini</td>\n",
       "      <td>Food/Beverage</td>\n",
       "      <td>Prepared/Preserved Foods</td>\n",
       "      <td>Desserts/Desserts Substitutes/Dessert Sauces/T...</td>\n",
       "      <td>Ice Cream/Ice Novelties (Frozen)</td>\n",
       "    </tr>\n",
       "    <tr>\n",
       "      <th>249</th>\n",
       "      <td>Himbeeren</td>\n",
       "      <td>Food/Beverage</td>\n",
       "      <td>Fruits - Unprepared/Unprocessed (Frozen)</td>\n",
       "      <td>Fruits - Unprepared/Unprocessed (Frozen)</td>\n",
       "      <td>Fruit - Unprepared/Unprocessed (Frozen)</td>\n",
       "    </tr>\n",
       "  </tbody>\n",
       "</table>\n",
       "</div>"
      ],
      "text/plain": [
       "                  Name   SegmentTitle  \\\n",
       "245  Bio Garten Kresse  Food/Beverage   \n",
       "246        Pflücksalat  Food/Beverage   \n",
       "247           Cornetto  Food/Beverage   \n",
       "248        Magnum Mini  Food/Beverage   \n",
       "249          Himbeeren  Food/Beverage   \n",
       "\n",
       "                                          FamilyTitle  \\\n",
       "245  Leaf Vegetables - Unprepared/Unprocessed (Fresh)   \n",
       "246  Leaf Vegetables - Unprepared/Unprocessed (Fresh)   \n",
       "247                          Prepared/Preserved Foods   \n",
       "248                          Prepared/Preserved Foods   \n",
       "249          Fruits - Unprepared/Unprocessed (Frozen)   \n",
       "\n",
       "                                            ClassTitle  \\\n",
       "245                           Single Leaf Salad Greens   \n",
       "246                  Loose Leaf/Multileaf Salad Greens   \n",
       "247  Desserts/Desserts Substitutes/Dessert Sauces/T...   \n",
       "248  Desserts/Desserts Substitutes/Dessert Sauces/T...   \n",
       "249           Fruits - Unprepared/Unprocessed (Frozen)   \n",
       "\n",
       "                                  BrickTitle  \n",
       "245                               Watercress  \n",
       "246       Loose Leaf/Multileaf Lettuce Other  \n",
       "247         Ice Cream/Ice Novelties (Frozen)  \n",
       "248         Ice Cream/Ice Novelties (Frozen)  \n",
       "249  Fruit - Unprepared/Unprocessed (Frozen)  "
      ]
     },
     "execution_count": 111,
     "metadata": {},
     "output_type": "execute_result"
    }
   ],
   "source": [
    "extra_food_df = pd.read_csv(EXTRA_FOOD_DATA)\n",
    "extra_food_df.tail()"
   ]
  },
  {
   "cell_type": "code",
   "execution_count": 113,
   "id": "53d884f5",
   "metadata": {},
   "outputs": [
    {
     "data": {
      "text/plain": [
       "Name                             Dallmanns Ingwer-Salbei Bonbons\"\n",
       "SegmentTitle                                        Food/Beverage\n",
       "FamilyTitle               Confectionery/Sugar Sweetening Products\n",
       "ClassTitle                                 Confectionery Products\n",
       "BrickTitle      Sugar Candy/Sugar Candy Substitutes Confectionery\n",
       "Name: 50, dtype: object"
      ]
     },
     "execution_count": 113,
     "metadata": {},
     "output_type": "execute_result"
    }
   ],
   "source": [
    "extra_food_df.iloc[50]"
   ]
  },
  {
   "cell_type": "code",
   "execution_count": 107,
   "id": "09e9defd",
   "metadata": {},
   "outputs": [
    {
     "name": "stdout",
     "output_type": "stream",
     "text": [
      "<class 'pandas.core.frame.DataFrame'>\n",
      "RangeIndex: 250 entries, 0 to 249\n",
      "Data columns (total 5 columns):\n",
      " #   Column        Non-Null Count  Dtype \n",
      "---  ------        --------------  ----- \n",
      " 0   Name          250 non-null    object\n",
      " 1   SegmentTitle  250 non-null    object\n",
      " 2   FamilyTitle   250 non-null    object\n",
      " 3   ClassTitle    250 non-null    object\n",
      " 4   BrickTitle    250 non-null    object\n",
      "dtypes: object(5)\n",
      "memory usage: 9.9+ KB\n"
     ]
    }
   ],
   "source": [
    "extra_food_df.info()"
   ]
  },
  {
   "cell_type": "code",
   "execution_count": null,
   "id": "6a9475a2",
   "metadata": {},
   "outputs": [],
   "source": [
    "extra_food_df.isna().sum()"
   ]
  },
  {
   "cell_type": "code",
   "execution_count": 110,
   "id": "302fcf0a",
   "metadata": {},
   "outputs": [
    {
     "name": "stdout",
     "output_type": "stream",
     "text": [
      "Unique SegmentTitle: 1\n",
      "Unique FamilyTitle: 19\n",
      "Unique ClassTitle: 62\n",
      "Unique BrickTitle: 100\n"
     ]
    }
   ],
   "source": [
    "for col in [\"SegmentTitle\", \"FamilyTitle\", \"ClassTitle\", \"BrickTitle\"]:\n",
    "    print(f\"Unique {col}: {extra_food_df[col].nunique()}\")"
   ]
  },
  {
   "cell_type": "code",
   "execution_count": 74,
   "id": "79b76ff3",
   "metadata": {},
   "outputs": [
    {
     "data": {
      "image/png": "[encoded data removed]",
      "text/plain": [
       "<Figure size 1000x500 with 1 Axes>"
      ]
     },
     "metadata": {},
     "output_type": "display_data"
    }
   ],
   "source": [
    "plt.figure(figsize=(10,5))\n",
    "extra_food_df[\"SegmentTitle\"].value_counts().head(10).plot(kind=\"bar\")\n",
    "plt.title(\"Top 1 Segment by Product Count\")\n",
    "plt.ylabel(\"Count\")\n",
    "plt.show()"
   ]
  },
  {
   "cell_type": "code",
   "execution_count": 85,
   "id": "9cde4f19",
   "metadata": {},
   "outputs": [
    {
     "data": {
      "image/png": "[encoded data removed]",
      "text/plain": [
       "<Figure size 1000x500 with 1 Axes>"
      ]
     },
     "metadata": {},
     "output_type": "display_data"
    }
   ],
   "source": [
    "plt.figure(figsize=(10,5))\n",
    "extra_food_df[\"FamilyTitle\"].value_counts().head(5).plot(kind=\"bar\", color=\"orange\")\n",
    "plt.title(\"Top 5 Families by Product Count\")\n",
    "plt.ylabel(\"Count\")\n",
    "plt.show()"
   ]
  },
  {
   "cell_type": "code",
   "execution_count": 86,
   "id": "52432156",
   "metadata": {},
   "outputs": [
    {
     "data": {
      "image/png": "[encoded data removed]",
      "text/plain": [
       "<Figure size 1000x500 with 1 Axes>"
      ]
     },
     "metadata": {},
     "output_type": "display_data"
    }
   ],
   "source": [
    "plt.figure(figsize=(10,5))\n",
    "extra_food_df[\"ClassTitle\"].value_counts().head(5).plot(kind=\"bar\", color=\"green\")\n",
    "plt.title(\"Top 5 Classes by Product Count\")\n",
    "plt.ylabel(\"Count\")\n",
    "plt.show()"
   ]
  },
  {
   "cell_type": "code",
   "execution_count": 90,
   "id": "e4002af9",
   "metadata": {},
   "outputs": [
    {
     "data": {
      "image/png": "[encoded data removed]",
      "text/plain": [
       "<Figure size 1000x500 with 1 Axes>"
      ]
     },
     "metadata": {},
     "output_type": "display_data"
    }
   ],
   "source": [
    "plt.figure(figsize=(10,5))\n",
    "extra_food_df[\"BrickTitle\"].value_counts().head(5).plot(kind=\"bar\", color=\"red\")\n",
    "plt.title(\"Top 5 Brick by Product Count\")\n",
    "plt.ylabel(\"Count\")\n",
    "plt.show()"
   ]
  },
  {
   "cell_type": "code",
   "execution_count": 68,
   "id": "2d2c4fa2",
   "metadata": {},
   "outputs": [
    {
     "name": "stdout",
     "output_type": "stream",
     "text": [
      "\n",
      "Products per Segment (top 5):\n"
     ]
    },
    {
     "data": {
      "text/plain": [
       "SegmentTitle\n",
       "Food/Beverage    250\n",
       "Name: Name, dtype: int64"
      ]
     },
     "execution_count": 68,
     "metadata": {},
     "output_type": "execute_result"
    }
   ],
   "source": [
    "print(\"\\nProducts per Segment (top 5):\")\n",
    "extra_food_df.groupby(\"SegmentTitle\")[\"Name\"].count().sort_values(ascending=False).head(5)"
   ]
  },
  {
   "cell_type": "code",
   "execution_count": 69,
   "id": "f52b8d95",
   "metadata": {},
   "outputs": [
    {
     "name": "stdout",
     "output_type": "stream",
     "text": [
      "\n",
      "Products per Segment (lower 5):\n"
     ]
    },
    {
     "data": {
      "text/plain": [
       "SegmentTitle\n",
       "Food/Beverage    250\n",
       "Name: Name, dtype: int64"
      ]
     },
     "execution_count": 69,
     "metadata": {},
     "output_type": "execute_result"
    }
   ],
   "source": [
    "print(\"\\nProducts per Segment (lower 5):\")\n",
    "extra_food_df.groupby(\"SegmentTitle\")[\"Name\"].count().sort_values(ascending=False).tail(5)"
   ]
  },
  {
   "cell_type": "code",
   "execution_count": 70,
   "id": "57a8092c",
   "metadata": {},
   "outputs": [
    {
     "name": "stdout",
     "output_type": "stream",
     "text": [
      "\n",
      "Products per Family (top 5):\n"
     ]
    },
    {
     "data": {
      "text/plain": [
       "FamilyTitle\n",
       "Beverages                                                 42\n",
       "Milk/Butter/Cream/Yogurts/Cheese/Eggs/Substitutes         26\n",
       "Prepared/Preserved Foods                                  23\n",
       "Confectionery/Sugar Sweetening Products                   16\n",
       "Vegetables (Non Leaf) - Unprepared/Unprocessed (Fresh)    16\n",
       "Name: Name, dtype: int64"
      ]
     },
     "execution_count": 70,
     "metadata": {},
     "output_type": "execute_result"
    }
   ],
   "source": [
    "print(\"\\nProducts per Family (top 5):\")\n",
    "extra_food_df.groupby(\"FamilyTitle\")[\"Name\"].count().sort_values(ascending=False).head(5)"
   ]
  },
  {
   "cell_type": "code",
   "execution_count": 71,
   "id": "9194cb4b",
   "metadata": {},
   "outputs": [
    {
     "name": "stdout",
     "output_type": "stream",
     "text": [
      "\n",
      "Products per Family (lower 5):\n"
     ]
    },
    {
     "data": {
      "text/plain": [
       "FamilyTitle\n",
       "Leaf Vegetables - Unprepared/Unprocessed (Fresh)      9\n",
       "Meat/Poultry/Other Animals                            8\n",
       "Fruits/Vegetables/Nuts/Seeds Prepared/Processed       7\n",
       "Fruits - Unprepared/Unprocessed (Shelf Stable)        2\n",
       "Vegetables - Unprepared/Unprocessed (Shelf Stable)    1\n",
       "Name: Name, dtype: int64"
      ]
     },
     "execution_count": 71,
     "metadata": {},
     "output_type": "execute_result"
    }
   ],
   "source": [
    "print(\"\\nProducts per Family (lower 5):\")\n",
    "extra_food_df.groupby(\"FamilyTitle\")[\"Name\"].count().sort_values(ascending=False).tail(5)"
   ]
  },
  {
   "cell_type": "code",
   "execution_count": 72,
   "id": "758b28cc",
   "metadata": {},
   "outputs": [
    {
     "name": "stdout",
     "output_type": "stream",
     "text": [
      "\n",
      "Products per Class (top 5):\n"
     ]
    },
    {
     "data": {
      "text/plain": [
       "ClassTitle\n",
       "Non Alcoholic Beverages - Ready to Drink                  22\n",
       "Confectionery Products                                    14\n",
       "Nuts/Seeds - Unprepared/Unprocessed (In Shell)            12\n",
       "Alcoholic Beverages (Includes De-Alcoholised Variants)    11\n",
       "Fruits - Unprepared/Unprocessed (Frozen)                  10\n",
       "Name: Name, dtype: int64"
      ]
     },
     "execution_count": 72,
     "metadata": {},
     "output_type": "execute_result"
    }
   ],
   "source": [
    "print(\"\\nProducts per Class (top 5):\")\n",
    "extra_food_df.groupby(\"ClassTitle\")[\"Name\"].count().sort_values(ascending=False).head(5)"
   ]
  },
  {
   "cell_type": "code",
   "execution_count": 73,
   "id": "b55bff80",
   "metadata": {},
   "outputs": [
    {
     "name": "stdout",
     "output_type": "stream",
     "text": [
      "\n",
      "Products per Bricks (top 5):\n"
     ]
    },
    {
     "data": {
      "text/plain": [
       "ClassTitle\n",
       "Non Alcoholic Beverages - Ready to Drink                  22\n",
       "Confectionery Products                                    14\n",
       "Nuts/Seeds - Unprepared/Unprocessed (In Shell)            12\n",
       "Alcoholic Beverages (Includes De-Alcoholised Variants)    11\n",
       "Fruits - Unprepared/Unprocessed (Frozen)                  10\n",
       "Name: Name, dtype: int64"
      ]
     },
     "execution_count": 73,
     "metadata": {},
     "output_type": "execute_result"
    }
   ],
   "source": [
    "print(\"\\nProducts per Bricks (top 5):\")\n",
    "extra_food_df.groupby(\"ClassTitle\")[\"Name\"].count().sort_values(ascending=False).head(5)"
   ]
  },
  {
   "cell_type": "markdown",
   "id": "7f1cc2a8",
   "metadata": {},
   "source": [
    "## Full Dataset"
   ]
  },
  {
   "cell_type": "code",
   "execution_count": 164,
   "id": "35da6ab3",
   "metadata": {},
   "outputs": [
    {
     "name": "stderr",
     "output_type": "stream",
     "text": [
      "C:\\Users\\ss255385\\AppData\\Local\\Temp\\ipykernel_5096\\4278126411.py:1: DtypeWarning: Columns (2,6) have mixed types. Specify dtype option on import or set low_memory=False.\n",
      "  full_df = pd.read_csv('../all_data_0.85.csv')\n"
     ]
    },
    {
     "data": {
      "text/html": [
       "<div>\n",
       "<style scoped>\n",
       "    .dataframe tbody tr th:only-of-type {\n",
       "        vertical-align: middle;\n",
       "    }\n",
       "\n",
       "    .dataframe tbody tr th {\n",
       "        vertical-align: top;\n",
       "    }\n",
       "\n",
       "    .dataframe thead th {\n",
       "        text-align: right;\n",
       "    }\n",
       "</style>\n",
       "<table border=\"1\" class=\"dataframe\">\n",
       "  <thead>\n",
       "    <tr style=\"text-align: right;\">\n",
       "      <th></th>\n",
       "      <th>Unnamed: 0</th>\n",
       "      <th>product_name</th>\n",
       "      <th>description</th>\n",
       "      <th>segment</th>\n",
       "      <th>family</th>\n",
       "      <th>class</th>\n",
       "      <th>brick</th>\n",
       "      <th>source</th>\n",
       "      <th>text</th>\n",
       "      <th>dedup_key</th>\n",
       "    </tr>\n",
       "  </thead>\n",
       "  <tbody>\n",
       "    <tr>\n",
       "      <th>0</th>\n",
       "      <td>0</td>\n",
       "      <td>Sterling Silver Angel Charm</td>\n",
       "      <td>This little angel charm is just heavenly</td>\n",
       "      <td>personal accessories</td>\n",
       "      <td>personal accessories</td>\n",
       "      <td>jewellery</td>\n",
       "      <td>NaN</td>\n",
       "      <td>MWPD_FULL</td>\n",
       "      <td>sterling silver angel charm</td>\n",
       "      <td>sterling silver angel charm</td>\n",
       "    </tr>\n",
       "    <tr>\n",
       "      <th>1</th>\n",
       "      <td>1</td>\n",
       "      <td>HP Pavilion 23xi 58.40 cm (23�) IPS Monitor</td>\n",
       "      <td>Share photos, videos, and games with everyone ...</td>\n",
       "      <td>computing</td>\n",
       "      <td>computers video games</td>\n",
       "      <td>computer video game peripherals</td>\n",
       "      <td>NaN</td>\n",
       "      <td>MWPD_FULL</td>\n",
       "      <td>hp pavilion 23xi 58.40 cm 23 ips monitor</td>\n",
       "      <td>hp pavilion 23xi 58 40 cm 23 ips monitor</td>\n",
       "    </tr>\n",
       "    <tr>\n",
       "      <th>2</th>\n",
       "      <td>2</td>\n",
       "      <td>East Carolina Pirates Ladies Personalized Bask...</td>\n",
       "      <td>Feel like a bona fide member of East Carolina ...</td>\n",
       "      <td>clothing</td>\n",
       "      <td>clothing</td>\n",
       "      <td>upper body wear tops</td>\n",
       "      <td>NaN</td>\n",
       "      <td>MWPD_FULL</td>\n",
       "      <td>east carolina pirates ladies personalized bask...</td>\n",
       "      <td>east carolina pirates ladies personalized bask...</td>\n",
       "    </tr>\n",
       "    <tr>\n",
       "      <th>3</th>\n",
       "      <td>3</td>\n",
       "      <td>Tekonsha 90195 P3 Electric Brake Control, 1-4 ...</td>\n",
       "      <td>Receive free shipping on this item. Enter coup...</td>\n",
       "      <td>automotive</td>\n",
       "      <td>automotive accessories and maintenance</td>\n",
       "      <td>automotive maintenance repair</td>\n",
       "      <td>NaN</td>\n",
       "      <td>MWPD_FULL</td>\n",
       "      <td>tekonsha 90195 p3 electric brake control 1-4 t...</td>\n",
       "      <td>tekonsha 90195 p3 electric brake control 1 4 t...</td>\n",
       "    </tr>\n",
       "    <tr>\n",
       "      <th>4</th>\n",
       "      <td>4</td>\n",
       "      <td>RN-XV WiFly Module - Wire Antenna</td>\n",
       "      <td>Description: The RN-XV module by Roving Networ...</td>\n",
       "      <td>electrical supplies</td>\n",
       "      <td>electronic communication components</td>\n",
       "      <td>electronic communication components</td>\n",
       "      <td>NaN</td>\n",
       "      <td>MWPD_FULL</td>\n",
       "      <td>rn-xv wifly module - wire antenna</td>\n",
       "      <td>rn xv wifly module wire antenna</td>\n",
       "    </tr>\n",
       "  </tbody>\n",
       "</table>\n",
       "</div>"
      ],
      "text/plain": [
       "   Unnamed: 0                                       product_name  \\\n",
       "0           0                        Sterling Silver Angel Charm   \n",
       "1           1        HP Pavilion 23xi 58.40 cm (23�) IPS Monitor   \n",
       "2           2  East Carolina Pirates Ladies Personalized Bask...   \n",
       "3           3  Tekonsha 90195 P3 Electric Brake Control, 1-4 ...   \n",
       "4           4                  RN-XV WiFly Module - Wire Antenna   \n",
       "\n",
       "                                         description               segment  \\\n",
       "0           This little angel charm is just heavenly  personal accessories   \n",
       "1  Share photos, videos, and games with everyone ...             computing   \n",
       "2  Feel like a bona fide member of East Carolina ...              clothing   \n",
       "3  Receive free shipping on this item. Enter coup...            automotive   \n",
       "4  Description: The RN-XV module by Roving Networ...   electrical supplies   \n",
       "\n",
       "                                   family  \\\n",
       "0                    personal accessories   \n",
       "1                   computers video games   \n",
       "2                                clothing   \n",
       "3  automotive accessories and maintenance   \n",
       "4     electronic communication components   \n",
       "\n",
       "                                 class brick     source  \\\n",
       "0                            jewellery   NaN  MWPD_FULL   \n",
       "1      computer video game peripherals   NaN  MWPD_FULL   \n",
       "2                 upper body wear tops   NaN  MWPD_FULL   \n",
       "3        automotive maintenance repair   NaN  MWPD_FULL   \n",
       "4  electronic communication components   NaN  MWPD_FULL   \n",
       "\n",
       "                                                text  \\\n",
       "0                        sterling silver angel charm   \n",
       "1           hp pavilion 23xi 58.40 cm 23 ips monitor   \n",
       "2  east carolina pirates ladies personalized bask...   \n",
       "3  tekonsha 90195 p3 electric brake control 1-4 t...   \n",
       "4                  rn-xv wifly module - wire antenna   \n",
       "\n",
       "                                           dedup_key  \n",
       "0                        sterling silver angel charm  \n",
       "1           hp pavilion 23xi 58 40 cm 23 ips monitor  \n",
       "2  east carolina pirates ladies personalized bask...  \n",
       "3  tekonsha 90195 p3 electric brake control 1 4 t...  \n",
       "4                    rn xv wifly module wire antenna  "
      ]
     },
     "execution_count": 164,
     "metadata": {},
     "output_type": "execute_result"
    }
   ],
   "source": [
    "full_df = pd.read_csv('../all_data_0.85.csv')\n",
    "full_df.head()"
   ]
  },
  {
   "cell_type": "code",
   "execution_count": 163,
   "id": "1a58d571",
   "metadata": {},
   "outputs": [
    {
     "data": {
      "text/plain": [
       "Unnamed: 0                                                  68473\n",
       "product_name    NAALSA - Venus Stainless Steel High Carbon Bre...\n",
       "description                                                   NaN\n",
       "segment                                 kitchenware and tableware\n",
       "family                                                kitchenware\n",
       "class                                                         NaN\n",
       "brick                                                         NaN\n",
       "source                                                   JIO_MART\n",
       "text            naalsa - venus stainless steel high carbon bre...\n",
       "dedup_key       naalsa venus stainless steel high carbon bread...\n",
       "Name: 64028, dtype: object"
      ]
     },
     "execution_count": 163,
     "metadata": {},
     "output_type": "execute_result"
    }
   ],
   "source": [
    "df = full_df[(full_df['family'].notna()) & (full_df['class'].isna())]\n",
    "df.iloc[4883]"
   ]
  },
  {
   "cell_type": "code",
   "execution_count": 165,
   "id": "20c4d968",
   "metadata": {},
   "outputs": [
    {
     "name": "stdout",
     "output_type": "stream",
     "text": [
      "<class 'pandas.core.frame.DataFrame'>\n",
      "RangeIndex: 158229 entries, 0 to 158228\n",
      "Data columns (total 10 columns):\n",
      " #   Column        Non-Null Count   Dtype \n",
      "---  ------        --------------   ----- \n",
      " 0   Unnamed: 0    158229 non-null  int64 \n",
      " 1   product_name  158229 non-null  object\n",
      " 2   description   15215 non-null   object\n",
      " 3   segment       128807 non-null  object\n",
      " 4   family        128807 non-null  object\n",
      " 5   class         61908 non-null   object\n",
      " 6   brick         3725 non-null    object\n",
      " 7   source        158229 non-null  object\n",
      " 8   text          158229 non-null  object\n",
      " 9   dedup_key     158225 non-null  object\n",
      "dtypes: int64(1), object(9)\n",
      "memory usage: 12.1+ MB\n"
     ]
    }
   ],
   "source": [
    "full_df.info()"
   ]
  },
  {
   "cell_type": "code",
   "execution_count": 128,
   "id": "7334fbbc",
   "metadata": {},
   "outputs": [
    {
     "data": {
      "text/plain": [
       "Unnamed: 0           0\n",
       "product_name         0\n",
       "description     143014\n",
       "segment          29422\n",
       "family           29422\n",
       "class            96321\n",
       "brick           154504\n",
       "source               0\n",
       "text                 0\n",
       "dedup_key            4\n",
       "dtype: int64"
      ]
     },
     "execution_count": 128,
     "metadata": {},
     "output_type": "execute_result"
    }
   ],
   "source": [
    "full_df.isna().sum()"
   ]
  },
  {
   "cell_type": "code",
   "execution_count": 130,
   "id": "70f39641",
   "metadata": {},
   "outputs": [
    {
     "name": "stdout",
     "output_type": "stream",
     "text": [
      "Unique segment: 42\n",
      "Unique family: 98\n",
      "Unique class: 349\n",
      "Unique brick: 119\n"
     ]
    }
   ],
   "source": [
    "for col in [\"segment\", \"family\", \"class\", \"brick\"]:\n",
    "    print(f\"Unique {col}: {full_df[col].nunique()}\")"
   ]
  },
  {
   "cell_type": "code",
   "execution_count": 132,
   "id": "7bbd1789",
   "metadata": {},
   "outputs": [
    {
     "name": "stdout",
     "output_type": "stream",
     "text": [
      "\n",
      "Products per Segment (top 5):\n"
     ]
    },
    {
     "data": {
      "text/plain": [
       "segment\n",
       "clothing                                  22013\n",
       "food beverage                             22005\n",
       "household office furniture furnishings    18712\n",
       "beauty personal care hygiene              11895\n",
       "kitchenware and tableware                  9042\n",
       "Name: product_name, dtype: int64"
      ]
     },
     "execution_count": 132,
     "metadata": {},
     "output_type": "execute_result"
    }
   ],
   "source": [
    "print(\"\\nProducts per Segment (top 5):\")\n",
    "full_df.groupby(\"segment\")[\"product_name\"].count().sort_values(ascending=False).head(5)"
   ]
  },
  {
   "cell_type": "code",
   "execution_count": 133,
   "id": "80aa97f6",
   "metadata": {},
   "outputs": [
    {
     "name": "stdout",
     "output_type": "stream",
     "text": [
      "\n",
      "Products per Segment (lower 5):\n"
     ]
    },
    {
     "data": {
      "text/plain": [
       "segment\n",
       "horticulture plants           25\n",
       "storage haulage containers    18\n",
       "fuels gases                    7\n",
       "tool storage workshop aids     6\n",
       "lubricants                     2\n",
       "Name: product_name, dtype: int64"
      ]
     },
     "execution_count": 133,
     "metadata": {},
     "output_type": "execute_result"
    }
   ],
   "source": [
    "print(\"\\nProducts per Segment (lower 5):\")\n",
    "full_df.groupby(\"segment\")[\"product_name\"].count().sort_values(ascending=False).tail(5)"
   ]
  },
  {
   "cell_type": "code",
   "execution_count": 134,
   "id": "2976e5d9",
   "metadata": {},
   "outputs": [
    {
     "name": "stdout",
     "output_type": "stream",
     "text": [
      "\n",
      "Products per Family (top 5):\n"
     ]
    },
    {
     "data": {
      "text/plain": [
       "family\n",
       "clothing                                            22013\n",
       "prepared preserved foods                             8008\n",
       "toys games                                           7764\n",
       "vegetables non leaf unprepared unprocessed fresh     7200\n",
       "ornamental furnishings                               7136\n",
       "Name: product_name, dtype: int64"
      ]
     },
     "execution_count": 134,
     "metadata": {},
     "output_type": "execute_result"
    }
   ],
   "source": [
    "print(\"\\nProducts per Family (top 5):\")\n",
    "full_df.groupby(\"family\")[\"product_name\"].count().sort_values(ascending=False).head(5)"
   ]
  },
  {
   "cell_type": "code",
   "execution_count": 135,
   "id": "dd648a39",
   "metadata": {},
   "outputs": [
    {
     "name": "stdout",
     "output_type": "stream",
     "text": [
      "\n",
      "Products per Family (lower 5):\n"
     ]
    },
    {
     "data": {
      "text/plain": [
       "family\n",
       "fruits unprepared unprocessed shelf stable        2\n",
       "lubricants protective compounds                   2\n",
       "live plants genus a thru g                        2\n",
       "plants variety packs                              2\n",
       "vegetables unprepared unprocessed shelf stable    1\n",
       "Name: product_name, dtype: int64"
      ]
     },
     "execution_count": 135,
     "metadata": {},
     "output_type": "execute_result"
    }
   ],
   "source": [
    "print(\"\\nProducts per Family (lower 5):\")\n",
    "full_df.groupby(\"family\")[\"product_name\"].count().sort_values(ascending=False).tail(5)"
   ]
  },
  {
   "cell_type": "code",
   "execution_count": 136,
   "id": "3a813afe",
   "metadata": {},
   "outputs": [
    {
     "name": "stdout",
     "output_type": "stream",
     "text": [
      "\n",
      "Products per Class (top 5):\n"
     ]
    },
    {
     "data": {
      "text/plain": [
       "class\n",
       "snacks                       7844\n",
       "root tuber vegetables        7181\n",
       "upper body wear tops         4889\n",
       "cosmetic makeup products     3949\n",
       "dinnerware non disposable    3706\n",
       "Name: product_name, dtype: int64"
      ]
     },
     "execution_count": 136,
     "metadata": {},
     "output_type": "execute_result"
    }
   ],
   "source": [
    "print(\"\\nProducts per Class (top 5):\")\n",
    "full_df.groupby(\"class\")[\"product_name\"].count().sort_values(ascending=False).head(5)"
   ]
  },
  {
   "cell_type": "code",
   "execution_count": 137,
   "id": "51e9657f",
   "metadata": {},
   "outputs": [
    {
     "name": "stdout",
     "output_type": "stream",
     "text": [
      "\n",
      "Products per Class (lower 5):\n"
     ]
    },
    {
     "data": {
      "text/plain": [
       "class\n",
       "brassica vegetables                        1\n",
       "automotive trailers trailer accessories    1\n",
       "tools equipment hand variety packs         1\n",
       "tomatoes                                   1\n",
       "toys games variety packs                   1\n",
       "Name: product_name, dtype: int64"
      ]
     },
     "execution_count": 137,
     "metadata": {},
     "output_type": "execute_result"
    }
   ],
   "source": [
    "print(\"\\nProducts per Class (lower 5):\")\n",
    "full_df.groupby(\"class\")[\"product_name\"].count().sort_values(ascending=False).tail(5)"
   ]
  },
  {
   "cell_type": "code",
   "execution_count": 138,
   "id": "ec161fa7",
   "metadata": {},
   "outputs": [
    {
     "name": "stdout",
     "output_type": "stream",
     "text": [
      "\n",
      "Products per Brick (top 5):\n"
     ]
    },
    {
     "data": {
      "text/plain": [
       "brick\n",
       "bread perishable                           382\n",
       "fruit vegetable juice ready to drink       365\n",
       "cakes pastries perishable                  315\n",
       "confectionery non chocolate                303\n",
       "seasonings marinades prepared processed    258\n",
       "Name: product_name, dtype: int64"
      ]
     },
     "execution_count": 138,
     "metadata": {},
     "output_type": "execute_result"
    }
   ],
   "source": [
    "print(\"\\nProducts per Brick (top 5):\")\n",
    "full_df.groupby(\"brick\")[\"product_name\"].count().sort_values(ascending=False).head(5)"
   ]
  },
  {
   "cell_type": "code",
   "execution_count": 139,
   "id": "d5602ccc",
   "metadata": {},
   "outputs": [
    {
     "name": "stdout",
     "output_type": "stream",
     "text": [
      "\n",
      "Products per Brick (lower 5):\n"
     ]
    },
    {
     "data": {
      "text/plain": [
       "brick\n",
       "stock bones shelf stable                          1\n",
       "vinegars                                          1\n",
       "vegetables unprepared unprocessed shelf stable    1\n",
       "watercress                                        1\n",
       "wine still                                        1\n",
       "Name: product_name, dtype: int64"
      ]
     },
     "execution_count": 139,
     "metadata": {},
     "output_type": "execute_result"
    }
   ],
   "source": [
    "print(\"\\nProducts per Brick (lower 5):\")\n",
    "full_df.groupby(\"brick\")[\"product_name\"].count().sort_values(ascending=False).tail(5)"
   ]
  },
  {
   "cell_type": "markdown",
   "id": "f80568d7",
   "metadata": {},
   "source": [
    "## GPC"
   ]
  },
  {
   "cell_type": "code",
   "execution_count": 172,
   "id": "89409127",
   "metadata": {},
   "outputs": [
    {
     "data": {
      "text/html": [
       "<div>\n",
       "<style scoped>\n",
       "    .dataframe tbody tr th:only-of-type {\n",
       "        vertical-align: middle;\n",
       "    }\n",
       "\n",
       "    .dataframe tbody tr th {\n",
       "        vertical-align: top;\n",
       "    }\n",
       "\n",
       "    .dataframe thead th {\n",
       "        text-align: right;\n",
       "    }\n",
       "</style>\n",
       "<table border=\"1\" class=\"dataframe\">\n",
       "  <thead>\n",
       "    <tr style=\"text-align: right;\">\n",
       "      <th></th>\n",
       "      <th>SegmentCode</th>\n",
       "      <th>SegmentTitle</th>\n",
       "      <th>SegmentDefinition</th>\n",
       "      <th>FamilyCode</th>\n",
       "      <th>FamilyTitle</th>\n",
       "      <th>FamilyDefinition</th>\n",
       "      <th>ClassCode</th>\n",
       "      <th>ClassTitle</th>\n",
       "      <th>ClassDefinition</th>\n",
       "      <th>BrickCode</th>\n",
       "      <th>BrickTitle</th>\n",
       "      <th>BrickDefinition_Includes</th>\n",
       "      <th>BrickDefinition_Excludes</th>\n",
       "      <th>AttributeCode</th>\n",
       "      <th>AttributeTitle</th>\n",
       "      <th>AttributeDefinition</th>\n",
       "      <th>AttributeValueCode</th>\n",
       "      <th>AttributeValueTitle</th>\n",
       "      <th>AttributeValueDefinition</th>\n",
       "    </tr>\n",
       "  </thead>\n",
       "  <tbody>\n",
       "    <tr>\n",
       "      <th>0</th>\n",
       "      <td>70000000</td>\n",
       "      <td>Arts/Crafts/Needlework</td>\n",
       "      <td>All products that are used to any creative act...</td>\n",
       "      <td>70010000</td>\n",
       "      <td>Arts/Crafts/Needlework Supplies</td>\n",
       "      <td>All products that are used to any creative act...</td>\n",
       "      <td>70010100</td>\n",
       "      <td>Artists Painting/Drawing Supplies</td>\n",
       "      <td>Includes any products that may be described/ob...</td>\n",
       "      <td>10001674</td>\n",
       "      <td>Artists Brushes/Applicators</td>\n",
       "      <td>Includes any products that can be described/ob...</td>\n",
       "      <td>Specifically excludes Household Paint Brushes ...</td>\n",
       "      <td>20001337.0</td>\n",
       "      <td>Type of Artists Brush/Applicator</td>\n",
       "      <td>Indicates, with reference to the product brand...</td>\n",
       "      <td>30008491.0</td>\n",
       "      <td>ARTISTS BLENDER/FINISHING BRUSH</td>\n",
       "      <td>NaN</td>\n",
       "    </tr>\n",
       "    <tr>\n",
       "      <th>1</th>\n",
       "      <td>70000000</td>\n",
       "      <td>Arts/Crafts/Needlework</td>\n",
       "      <td>All products that are used to any creative act...</td>\n",
       "      <td>70010000</td>\n",
       "      <td>Arts/Crafts/Needlework Supplies</td>\n",
       "      <td>All products that are used to any creative act...</td>\n",
       "      <td>70010100</td>\n",
       "      <td>Artists Painting/Drawing Supplies</td>\n",
       "      <td>Includes any products that may be described/ob...</td>\n",
       "      <td>10001674</td>\n",
       "      <td>Artists Brushes/Applicators</td>\n",
       "      <td>Includes any products that can be described/ob...</td>\n",
       "      <td>Specifically excludes Household Paint Brushes ...</td>\n",
       "      <td>20001337.0</td>\n",
       "      <td>Type of Artists Brush/Applicator</td>\n",
       "      <td>Indicates, with reference to the product brand...</td>\n",
       "      <td>30008492.0</td>\n",
       "      <td>ARTISTS CALLIGRAPHY BRUSH</td>\n",
       "      <td>NaN</td>\n",
       "    </tr>\n",
       "    <tr>\n",
       "      <th>2</th>\n",
       "      <td>70000000</td>\n",
       "      <td>Arts/Crafts/Needlework</td>\n",
       "      <td>All products that are used to any creative act...</td>\n",
       "      <td>70010000</td>\n",
       "      <td>Arts/Crafts/Needlework Supplies</td>\n",
       "      <td>All products that are used to any creative act...</td>\n",
       "      <td>70010100</td>\n",
       "      <td>Artists Painting/Drawing Supplies</td>\n",
       "      <td>Includes any products that may be described/ob...</td>\n",
       "      <td>10001674</td>\n",
       "      <td>Artists Brushes/Applicators</td>\n",
       "      <td>Includes any products that can be described/ob...</td>\n",
       "      <td>Specifically excludes Household Paint Brushes ...</td>\n",
       "      <td>20001337.0</td>\n",
       "      <td>Type of Artists Brush/Applicator</td>\n",
       "      <td>Indicates, with reference to the product brand...</td>\n",
       "      <td>30008493.0</td>\n",
       "      <td>ARTISTS FLAT BRUSH</td>\n",
       "      <td>NaN</td>\n",
       "    </tr>\n",
       "    <tr>\n",
       "      <th>3</th>\n",
       "      <td>70000000</td>\n",
       "      <td>Arts/Crafts/Needlework</td>\n",
       "      <td>All products that are used to any creative act...</td>\n",
       "      <td>70010000</td>\n",
       "      <td>Arts/Crafts/Needlework Supplies</td>\n",
       "      <td>All products that are used to any creative act...</td>\n",
       "      <td>70010100</td>\n",
       "      <td>Artists Painting/Drawing Supplies</td>\n",
       "      <td>Includes any products that may be described/ob...</td>\n",
       "      <td>10001674</td>\n",
       "      <td>Artists Brushes/Applicators</td>\n",
       "      <td>Includes any products that can be described/ob...</td>\n",
       "      <td>Specifically excludes Household Paint Brushes ...</td>\n",
       "      <td>20001337.0</td>\n",
       "      <td>Type of Artists Brush/Applicator</td>\n",
       "      <td>Indicates, with reference to the product brand...</td>\n",
       "      <td>30008494.0</td>\n",
       "      <td>ARTISTS ROUND BRUSH</td>\n",
       "      <td>NaN</td>\n",
       "    </tr>\n",
       "    <tr>\n",
       "      <th>4</th>\n",
       "      <td>70000000</td>\n",
       "      <td>Arts/Crafts/Needlework</td>\n",
       "      <td>All products that are used to any creative act...</td>\n",
       "      <td>70010000</td>\n",
       "      <td>Arts/Crafts/Needlework Supplies</td>\n",
       "      <td>All products that are used to any creative act...</td>\n",
       "      <td>70010100</td>\n",
       "      <td>Artists Painting/Drawing Supplies</td>\n",
       "      <td>Includes any products that may be described/ob...</td>\n",
       "      <td>10001674</td>\n",
       "      <td>Artists Brushes/Applicators</td>\n",
       "      <td>Includes any products that can be described/ob...</td>\n",
       "      <td>Specifically excludes Household Paint Brushes ...</td>\n",
       "      <td>20001337.0</td>\n",
       "      <td>Type of Artists Brush/Applicator</td>\n",
       "      <td>Indicates, with reference to the product brand...</td>\n",
       "      <td>30008495.0</td>\n",
       "      <td>ARTISTS SCRIPT LINER BRUSH</td>\n",
       "      <td>NaN</td>\n",
       "    </tr>\n",
       "  </tbody>\n",
       "</table>\n",
       "</div>"
      ],
      "text/plain": [
       "   SegmentCode            SegmentTitle  \\\n",
       "0     70000000  Arts/Crafts/Needlework   \n",
       "1     70000000  Arts/Crafts/Needlework   \n",
       "2     70000000  Arts/Crafts/Needlework   \n",
       "3     70000000  Arts/Crafts/Needlework   \n",
       "4     70000000  Arts/Crafts/Needlework   \n",
       "\n",
       "                                   SegmentDefinition  FamilyCode  \\\n",
       "0  All products that are used to any creative act...    70010000   \n",
       "1  All products that are used to any creative act...    70010000   \n",
       "2  All products that are used to any creative act...    70010000   \n",
       "3  All products that are used to any creative act...    70010000   \n",
       "4  All products that are used to any creative act...    70010000   \n",
       "\n",
       "                       FamilyTitle  \\\n",
       "0  Arts/Crafts/Needlework Supplies   \n",
       "1  Arts/Crafts/Needlework Supplies   \n",
       "2  Arts/Crafts/Needlework Supplies   \n",
       "3  Arts/Crafts/Needlework Supplies   \n",
       "4  Arts/Crafts/Needlework Supplies   \n",
       "\n",
       "                                    FamilyDefinition  ClassCode  \\\n",
       "0  All products that are used to any creative act...   70010100   \n",
       "1  All products that are used to any creative act...   70010100   \n",
       "2  All products that are used to any creative act...   70010100   \n",
       "3  All products that are used to any creative act...   70010100   \n",
       "4  All products that are used to any creative act...   70010100   \n",
       "\n",
       "                          ClassTitle  \\\n",
       "0  Artists Painting/Drawing Supplies   \n",
       "1  Artists Painting/Drawing Supplies   \n",
       "2  Artists Painting/Drawing Supplies   \n",
       "3  Artists Painting/Drawing Supplies   \n",
       "4  Artists Painting/Drawing Supplies   \n",
       "\n",
       "                                     ClassDefinition  BrickCode  \\\n",
       "0  Includes any products that may be described/ob...   10001674   \n",
       "1  Includes any products that may be described/ob...   10001674   \n",
       "2  Includes any products that may be described/ob...   10001674   \n",
       "3  Includes any products that may be described/ob...   10001674   \n",
       "4  Includes any products that may be described/ob...   10001674   \n",
       "\n",
       "                    BrickTitle  \\\n",
       "0  Artists Brushes/Applicators   \n",
       "1  Artists Brushes/Applicators   \n",
       "2  Artists Brushes/Applicators   \n",
       "3  Artists Brushes/Applicators   \n",
       "4  Artists Brushes/Applicators   \n",
       "\n",
       "                            BrickDefinition_Includes  \\\n",
       "0  Includes any products that can be described/ob...   \n",
       "1  Includes any products that can be described/ob...   \n",
       "2  Includes any products that can be described/ob...   \n",
       "3  Includes any products that can be described/ob...   \n",
       "4  Includes any products that can be described/ob...   \n",
       "\n",
       "                            BrickDefinition_Excludes  AttributeCode  \\\n",
       "0  Specifically excludes Household Paint Brushes ...     20001337.0   \n",
       "1  Specifically excludes Household Paint Brushes ...     20001337.0   \n",
       "2  Specifically excludes Household Paint Brushes ...     20001337.0   \n",
       "3  Specifically excludes Household Paint Brushes ...     20001337.0   \n",
       "4  Specifically excludes Household Paint Brushes ...     20001337.0   \n",
       "\n",
       "                     AttributeTitle  \\\n",
       "0  Type of Artists Brush/Applicator   \n",
       "1  Type of Artists Brush/Applicator   \n",
       "2  Type of Artists Brush/Applicator   \n",
       "3  Type of Artists Brush/Applicator   \n",
       "4  Type of Artists Brush/Applicator   \n",
       "\n",
       "                                 AttributeDefinition  AttributeValueCode  \\\n",
       "0  Indicates, with reference to the product brand...          30008491.0   \n",
       "1  Indicates, with reference to the product brand...          30008492.0   \n",
       "2  Indicates, with reference to the product brand...          30008493.0   \n",
       "3  Indicates, with reference to the product brand...          30008494.0   \n",
       "4  Indicates, with reference to the product brand...          30008495.0   \n",
       "\n",
       "               AttributeValueTitle AttributeValueDefinition  \n",
       "0  ARTISTS BLENDER/FINISHING BRUSH                      NaN  \n",
       "1        ARTISTS CALLIGRAPHY BRUSH                      NaN  \n",
       "2               ARTISTS FLAT BRUSH                      NaN  \n",
       "3              ARTISTS ROUND BRUSH                      NaN  \n",
       "4       ARTISTS SCRIPT LINER BRUSH                      NaN  "
      ]
     },
     "execution_count": 172,
     "metadata": {},
     "output_type": "execute_result"
    }
   ],
   "source": [
    "df = pd.read_excel(GPC_PATH)\n",
    "df.head()"
   ]
  },
  {
   "cell_type": "code",
   "execution_count": 174,
   "id": "24520713",
   "metadata": {},
   "outputs": [
    {
     "name": "stdout",
     "output_type": "stream",
     "text": [
      "Unique SegmentTitle: 45\n",
      "Unique FamilyTitle: 162\n",
      "Unique ClassTitle: 935\n",
      "Unique BrickTitle: 5300\n"
     ]
    }
   ],
   "source": [
    "for col in [\"SegmentTitle\", \"FamilyTitle\", \"ClassTitle\", \"BrickTitle\"]:\n",
    "    print(f\"Unique {col}: {df[col].nunique()}\")"
   ]
  },
  {
   "cell_type": "code",
   "execution_count": null,
   "id": "25647ac5",
   "metadata": {},
   "outputs": [],
   "source": []
  }
 ],
 "metadata": {
  "kernelspec": {
   "display_name": "Python 3",
   "language": "python",
   "name": "python3"
  },
  "language_info": {
   "codemirror_mode": {
    "name": "ipython",
    "version": 3
   },
   "file_extension": ".py",
   "mimetype": "text/x-python",
   "name": "python",
   "nbconvert_exporter": "python",
   "pygments_lexer": "ipython3",
   "version": "3.13.5"
  }
 },
 "nbformat": 4,
 "nbformat_minor": 5
}
